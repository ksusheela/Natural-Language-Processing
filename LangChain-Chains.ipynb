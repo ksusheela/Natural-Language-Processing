{
 "cells": [
  {
   "cell_type": "markdown",
   "id": "b6eb3808",
   "metadata": {},
   "source": [
    "# Chains in Langchain\n",
    "In Langchain, Chains are powerful, reusable components that can be linked together to perform complex tasks.\n",
    "\n",
    "Chains are invaluable due to their capacity to effortlessly blend diverse components, shaping a singular and coherent application. Through the creation of chains, multiple elements can seamlessly come together. Imagine this scenario: a chain is crafted to take in user input, polish it using a PromptTemplate, and subsequently pass on this refined response to a large language model (LLM). This streamlined process not only simplifies but also enriches the overall functionality of the system."
   ]
  },
  {
   "cell_type": "markdown",
   "id": "7cb5084c",
   "metadata": {},
   "source": [
    "\n",
    "**Let’s summarize this:**\n",
    "\n",
    "- Integrating prompt templates with LLMs allows for a powerful synergy.\n",
    "- By taking the output of one LLM and using it as input for the next, it becomes feasible to connect multiple LLMs in a sequential fashion.\n",
    "\n",
    " \n",
    "- Blending LLMs with external data enables the system to respond to inquiries effectively.\n",
    "- Integrating LLMs with long-term memory, such as chat history, enhances the overall context and depth of interactions.\n",
    "\n",
    "**Chains can be formed using various types of components, such as:**\n",
    "\n",
    "- Prompts\n",
    "- Models\n",
    "- Arbitrary functions\n",
    "> Chains provide us with the ability to build complex applications by linking multiple chains together or by incorporating chains with other vital elements. This approach enables a sophisticated and nuanced method for developing applications, allowing for intricate and advanced functionalities."
   ]
  },
  {
   "cell_type": "markdown",
   "id": "f6a9ceb3",
   "metadata": {},
   "source": [
    "##### Types of Chain\n",
    "\n",
    "There are many different Chains in Langchain that we can use. Here, we are going through three of the fundamental chain.\n",
    "\n",
    "1. **LLM Chain**\n",
    "\n",
    "> The most common chain. Takes an input, formats it, and passes it to an LLM for processing. Basic components are PromptTemplate, an LLM, and an optional output parser.\n",
    "\n",
    " ."
   ]
  },
  {
   "cell_type": "markdown",
   "id": "95d702a0",
   "metadata": {},
   "source": [
    "2. **Sequential Chain**\n",
    "\n",
    "> A series of Chains executed in a specific order. There are different variations, including:\n",
    "\n",
    "- SimpleSequentialChain – singular input/output with output of one step as input to the next\n",
    "- SequentialChain – allows for multiple inputs/outputs.\n",
    "\n",
    "3. **Router Chain**\n",
    "\n",
    "> The Router Chain is used for complicated tasks. If we have multiple subchains, each of which is specialized for a particular type of input, we could have a router chain that decides which subchain to pass the input to.\n",
    "\n",
    "4. **Index Chains**\n",
    "\n",
    "> These combine your data stored in indexes with LLMs. Useful for question answering over your own documents."
   ]
  },
  {
   "cell_type": "markdown",
   "id": "6facc908",
   "metadata": {},
   "source": [
    "## Prompt Template\n",
    "A Prompt Template is not just a static question or instruction, but rather a dynamic and adaptable way to generate a prompt for the LLM.\n",
    "\n",
    "It’s a string that takes multiple inputs and generate a structured prompt tailored for those inputs.\n",
    "\n",
    "Prompt Templates may also contain specific instructions for the LLM, a set of “few-shot” examples to help guide the LLM’s response, and possibly a direct question to be answered by the LLM.\n",
    "\n",
    "Prompt Templates simplify the process of managing complex or varied inputs, and can make your code cleaner and more maintainable."
   ]
  },
  {
   "cell_type": "markdown",
   "id": "e140eb15",
   "metadata": {},
   "source": [
    "## LLM Chain – The simplest chain\n",
    "\n",
    "The most basic form of chain within this system is the LLMChain, widely recognized and fundamental. Its operation involves a structured arrangement, including a PromptTemplate, an OpenAI model (either a Large Language Model or a ChatModel), and an optional output parser. Within this setup, the LLMChain accepts various input parameters. It employs the PromptTemplate to transform these inputs into a coherent prompt. This polished prompt is then inputted into the model. After receiving the output, the LLMChain uses the OutputParser, if provided, to further refine and format the result into its ultimate usable form. To illustrate the functionality of LLM chains, consider the concrete example.A concrete example illustrating the functionality of LLM chains is detailed below:\n",
    "\n",
    "- It works by taking a user’s input and passing it to the first element in the chain — a PromptTemplate — to format the input into a particular prompt.\n",
    "\n",
    "- The formatted prompt is then passed to the next (and final) element in the chain — a LLM."
   ]
  },
  {
   "cell_type": "code",
   "execution_count": 28,
   "id": "34cd0b58",
   "metadata": {},
   "outputs": [
    {
     "name": "stdin",
     "output_type": "stream",
     "text": [
      " ········\n"
     ]
    }
   ],
   "source": [
    "# Import Necessary Libraries\n",
    "import langchain\n",
    "import openai\n",
    "from langchain.llms import OpenAI\n",
    "from langchain.prompts import PromptTemplate\n",
    "\n",
    "from getpass import getpass\n",
    "OPENAI_API_KEY = getpass()"
   ]
  },
  {
   "cell_type": "markdown",
   "id": "f5c19ea0",
   "metadata": {},
   "source": [
    "##### Initialize LLM and Prompt Template\n",
    "We initialize the OpenAI Large Language Model with specific parameters, including a temperature of 0.9, which affects the diversity of generated responses. Furthermore, users must define a ‘PromptTemplate’ to input a variable (in this case, “product”) and create a standardized prompt structure. At runtime, the placeholder ‘{product}’ can be dynamically populated with different product names."
   ]
  },
  {
   "cell_type": "code",
   "execution_count": 29,
   "id": "f0e1db3d",
   "metadata": {},
   "outputs": [],
   "source": [
    "llm = OpenAI(temperature=0.9,\n",
    "          openai_api_key=OPENAI_API_KEY\n",
    "       )\n",
    "\n",
    "prompt = PromptTemplate(\n",
    "    input_variables=[\"product\"],\n",
    "    template=\"What is a good name for a company that makes {product}?\",\n",
    ")"
   ]
  },
  {
   "cell_type": "markdown",
   "id": "adee291e",
   "metadata": {},
   "source": [
    "##### Creating A Chain\n",
    "We create an instance of the ‘LLMChain’ class, using a predefined OpenAI Large Language Model and a specified prompt template. Now, we have the capability to apply the chain to a product such as a “gaming laptop” using the chain.run command. This means the chain can dynamically process and generate responses tailored to this specific product input."
   ]
  },
  {
   "cell_type": "code",
   "execution_count": 30,
   "id": "9937952d",
   "metadata": {},
   "outputs": [
    {
     "name": "stderr",
     "output_type": "stream",
     "text": [
      "Error in StdOutCallbackHandler.on_chain_start callback: AttributeError(\"'NoneType' object has no attribute 'get'\")\n"
     ]
    },
    {
     "name": "stdout",
     "output_type": "stream",
     "text": [
      "Prompt after formatting:\n",
      "\u001b[32;1m\u001b[1;3mWhat is a good name for a company that makes gaming laptop?\u001b[0m\n",
      "\n",
      "\u001b[1m> Finished chain.\u001b[0m\n",
      "\n",
      "\n",
      "\"Apex Gaming Co.\" or \"VanguardTech Gaming\"\n"
     ]
    }
   ],
   "source": [
    "from langchain.chains import LLMChain\n",
    "chain = LLMChain(llm=llm, prompt=prompt, verbose=True)\n",
    "\n",
    "print(chain.run(\"gaming laptop\"))"
   ]
  },
  {
   "cell_type": "markdown",
   "id": "9ea50897",
   "metadata": {},
   "source": [
    "- Based on this we get the name of a company called **GamingRX Systems**"
   ]
  },
  {
   "cell_type": "markdown",
   "id": "cebd52dc",
   "metadata": {},
   "source": [
    "### Sequential Chain\n",
    "A sequential chain is a chain that combines various individual chains, where the output of one chain serves as the input for the next in a continuous sequence. It operates by running a series of chains consecutively.\n",
    "\n",
    "There are two types of sequential chains:\n",
    "\n",
    "**Simple Sequential Chain**: which handles a single input and output.\n",
    "\n",
    "**Sequential Chain**: manage multiple inputs and outputs simultaneously."
   ]
  },
  {
   "attachments": {
    "876262db-065b-4f74-a6f7-edcd775c95d8.png": {
     "image/png": "[encoded data removed]"
    }
   },
   "cell_type": "markdown",
   "id": "df7321b4",
   "metadata": {},
   "source": [
    "![4.png](attachment:876262db-065b-4f74-a6f7-edcd775c95d8.png)"
   ]
  },
  {
   "cell_type": "markdown",
   "id": "f1a2e34b",
   "metadata": {},
   "source": [
    "- A sequential chain merges various chains by using the output of one chain as the input for the next.\n",
    "\n",
    "- It operates by executing a series of chains consecutively.\n",
    "\n",
    "- This approach is valuable when you need to utilize the result of one operation as the starting point for the next one, creating a seamless flow of processes."
   ]
  },
  {
   "attachments": {
    "daf8ff9f-5ef5-43e3-8ec9-bcb14a681a9a.webp": {
     "image/webp": "[encoded data removed]"
    }
   },
   "cell_type": "markdown",
   "id": "a14ab7be",
   "metadata": {},
   "source": [
    "## Simple Sequential Chain\n",
    "Sequential chains, in their simplest form, consist of steps where each step takes one input and produces one output. The output from one step becomes the input for the next.\n",
    "\n",
    "![5.webp](attachment:daf8ff9f-5ef5-43e3-8ec9-bcb14a681a9a.webp)\n",
    "\n",
    "This straightforward approach is effective when dealing with sub-chains designed for singular inputs and outputs. It ensures a smooth and continuous flow of information, with each step seamlessly passing its output to the subsequent step.\n",
    "\n"
   ]
  },
  {
   "attachments": {
    "f4b4c05a-858e-48ee-a893-74c0106cb371.webp": {
     "image/webp": "[encoded data removed]"
    }
   },
   "cell_type": "markdown",
   "id": "00234184",
   "metadata": {},
   "source": [
    "![8.webp](attachment:f4b4c05a-858e-48ee-a893-74c0106cb371.webp)"
   ]
  },
  {
   "cell_type": "markdown",
   "id": "af732581",
   "metadata": {},
   "source": [
    "#### Crafting Chains – Simple Sequential Chains\n",
    "\n",
    "Simple Sequential Chains allow for a single input to undergo a series of coherent transformations, resulting in a refined output. This sequential approach ensures systematic and efficient handling of data, making it ideal for scenarios where a linear flow of information processing is essential"
   ]
  },
  {
   "cell_type": "code",
   "execution_count": 4,
   "id": "d12a0957",
   "metadata": {},
   "outputs": [],
   "source": [
    "# Importing Necessary Libraries\n",
    "from langchain.llms import OpenAI\n",
    "from langchain.chains import LLMChain\n",
    "from langchain.prompts import PromptTemplate\n",
    "from langchain.prompts import ChatPromptTemplate\n",
    "from langchain.chains import SimpleSequentialChain"
   ]
  },
  {
   "cell_type": "markdown",
   "id": "8ea1b661",
   "metadata": {},
   "source": [
    "#### Initializing and Chaining\n",
    "We initialize an OpenAI Large Language Model with a temperature setting of 0.7 and an API key. Then, we create a specific chat prompt template with a placeholder for a product name. Subsequently, we form an LLMChain, which allows the generation of responses based on the provided prompt. We repeat this process for two different chains."
   ]
  },
  {
   "cell_type": "code",
   "execution_count": 31,
   "id": "e5fa0d88",
   "metadata": {},
   "outputs": [],
   "source": [
    "# This is a LLMChain to write first chain.\n",
    "\n",
    "llm = OpenAI(temperature=0.7, \n",
    "             openai_api_key=OPENAI_API_KEY\n",
    "            )\n",
    "\n",
    "first_prompt = ChatPromptTemplate.from_template(\n",
    "    \"What is the best name to describe a company that makes {product}?\"\n",
    ")\n",
    "chain_one = LLMChain(llm=llm, prompt=first_prompt)"
   ]
  },
  {
   "cell_type": "code",
   "execution_count": 32,
   "id": "2c200d9f",
   "metadata": {},
   "outputs": [],
   "source": [
    "# This is a LLMChain to write second chain.\n",
    "\n",
    "llm = OpenAI(temperature=0.7, \n",
    "             openai_api_key=OPENAI_API_KEY\n",
    "            )\n",
    "\n",
    "second_prompt = ChatPromptTemplate.from_template(\n",
    "    \"Write a 20 words description for the following company:{company_name}\"\n",
    ")\n",
    "chain_two = LLMChain(llm=llm, prompt=second_prompt)"
   ]
  },
  {
   "cell_type": "markdown",
   "id": "6d301602",
   "metadata": {},
   "source": [
    "#### Chaining Two Chains\n",
    "\n",
    "Create an overall Simple Sequential Chain, comprising two different individual chains, chain_one, and chain_two. Execute this with the input “gaming laptop,” it sequentially processes the input through the defined chains and provides an output, that demonstrates the step-by-step sequential execution of the chains."
   ]
  },
  {
   "cell_type": "code",
   "execution_count": 33,
   "id": "81fc6d8c",
   "metadata": {},
   "outputs": [
    {
     "name": "stderr",
     "output_type": "stream",
     "text": [
      "Error in StdOutCallbackHandler.on_chain_start callback: AttributeError(\"'NoneType' object has no attribute 'get'\")\n"
     ]
    },
    {
     "name": "stdout",
     "output_type": "stream",
     "text": [
      "\u001b[36;1m\u001b[1;3m\n",
      "\n",
      "\"EliteTech Gaming\"\u001b[0m\n",
      "\u001b[33;1m\u001b[1;3m\n",
      "\n",
      "\"EliteTech Gaming is a cutting-edge gaming company, offering top-of-the-line technology and superior gaming experiences for players of all levels.\" \u001b[0m\n",
      "\n",
      "\u001b[1m> Finished chain.\u001b[0m\n"
     ]
    },
    {
     "data": {
      "text/plain": [
       "'\\n\\n\"EliteTech Gaming is a cutting-edge gaming company, offering top-of-the-line technology and superior gaming experiences for players of all levels.\" '"
      ]
     },
     "execution_count": 33,
     "metadata": {},
     "output_type": "execute_result"
    }
   ],
   "source": [
    "overall_simple_chain = SimpleSequentialChain(chains=[chain_one, chain_two],\n",
    "                                             verbose=True\n",
    "                                            )\n",
    "overall_simple_chain.run(\"gaming laptop\")"
   ]
  },
  {
   "attachments": {
    "280b4f75-56fb-4e5b-ac60-187eb1aa2444.webp": {
     "image/webp": "[encoded data removed]"
    }
   },
   "cell_type": "markdown",
   "id": "fb347fb6",
   "metadata": {},
   "source": [
    "## Sequential Chain\n",
    "\n",
    "Not all of the sequential chains operate with a single string input and output. In more intricate setups, these chains handle multiple inputs and generate multiple final outputs. The careful naming of input and output variables holds important significance in these complex chains.\n",
    "\n",
    "![6.webp](attachment:280b4f75-56fb-4e5b-ac60-187eb1aa2444.webp)\n",
    "\n",
    "A more general form of sequential chains allows for multiple inputs/outputs. Any step in the chain can take in multiple inputs.\n",
    "\n"
   ]
  },
  {
   "cell_type": "markdown",
   "id": "0b4f54db",
   "metadata": {},
   "source": [
    "### Crafting Chains – Sequential Chains"
   ]
  },
  {
   "cell_type": "code",
   "execution_count": 34,
   "id": "d9b61a31",
   "metadata": {},
   "outputs": [],
   "source": [
    "#Importing Necessary Libraries\n",
    "\n",
    "from langchain.llms import OpenAI\n",
    "from langchain.chains import LLMChain\n",
    "from langchain.prompts import PromptTemplate\n",
    "from langchain.prompts import ChatPromptTemplate\n",
    "from langchain.chains import SequentialChain\n",
    "\n",
    "llm = OpenAI(temperature=0.7, \n",
    "             openai_api_key=OPENAI_API_KEY\n",
    "            )\n"
   ]
  },
  {
   "cell_type": "markdown",
   "id": "6ca62a84",
   "metadata": {},
   "source": [
    "#### Initializing and Chaining\n",
    "\n",
    "We define a prompt template, instructing the system to perform a specific task. We then create a corresponding LLMChain, using the designated Large Language Model (LLM) and the defined prompt template. The chain is set up to take the input, pass it through the LLM, and generate the output. We repeat this process to establish four distinct chains."
   ]
  },
  {
   "cell_type": "code",
   "execution_count": 35,
   "id": "c228daa9",
   "metadata": {},
   "outputs": [],
   "source": [
    "Review = \"\"\"Les ordinateurs portables GamersTech impressionne par ses\n",
    " performances exceptionnelles et son design élégant. De sa configuration \n",
    " matérielle robuste à un clavier RVB personnalisable et un système de \n",
    " refroidissement efficace, il établit un équilibre parfait entre prouesses \n",
    " de jeu et portabilité.\"\"\"\n",
    "\n",
    "# prompt template 1: translate to English\n",
    "\n",
    "first_prompt = ChatPromptTemplate.from_template(\n",
    "    \"Translate the following review to english:\"\n",
    "    \"\\n\\n{Review}\"\n",
    ")\n",
    "\n",
    "# chain 1: input= Review and output= English_Review\n",
    "\n",
    "chain_one = LLMChain(llm=llm, prompt=first_prompt,\n",
    "                     output_key=\"English_Review\"                     \n",
    "                    )"
   ]
  },
  {
   "cell_type": "code",
   "execution_count": 36,
   "id": "19d70d72",
   "metadata": {},
   "outputs": [],
   "source": [
    "# prompt template 2: Summarize the English review\n",
    "\n",
    "second_prompt = ChatPromptTemplate.from_template(\n",
    "    \"Can you summarize the following review in 1 sentence:\"\n",
    "    \"\\n\\n{English_Review}\"\n",
    ")\n",
    "\n",
    "# chain 2: input= English_Review and output= summary\n",
    "\n",
    "chain_two = LLMChain(llm=llm, prompt=second_prompt,\n",
    "                     output_key=\"summary\"\n",
    "                    )"
   ]
  },
  {
   "cell_type": "code",
   "execution_count": 37,
   "id": "ca619224",
   "metadata": {},
   "outputs": [],
   "source": [
    "# prompt template 3: translate to English\n",
    "\n",
    "third_prompt = ChatPromptTemplate.from_template(\n",
    "    \"What language is the following review:\\n\\n{Review}\"\n",
    ")\n",
    "\n",
    "# chain 3: input= Review and output= language\n",
    "\n",
    "chain_three = LLMChain(llm=llm, prompt=third_prompt,\n",
    "                       output_key=\"language\"\n",
    "                      )"
   ]
  },
  {
   "cell_type": "code",
   "execution_count": 38,
   "id": "59e9fdf8",
   "metadata": {},
   "outputs": [],
   "source": [
    "# prompt template 4: follow up message\n",
    "\n",
    "fourth_prompt = ChatPromptTemplate.from_template(\n",
    "    \"Write a follow up response to the following \"\n",
    "    \"summary in the specified language:\"\n",
    "    \"\\n\\nSummary: {summary}\\n\\nLanguage: {language}\"\n",
    ")\n",
    "\n",
    "# chain 4: input= summary, language and output= followup_message\n",
    "\n",
    "chain_four = LLMChain(llm=llm, prompt=fourth_prompt,\n",
    "                      output_key=\"followup_message\"\n",
    "                     )"
   ]
  },
  {
   "cell_type": "markdown",
   "id": "5f770f85",
   "metadata": {},
   "source": [
    "#### Chaining Two Chains\n",
    "\n",
    "An overall Sequential Chain named ‘overall_chain’ is created, incorporating four individual chains ‘chain_one’, ‘chain_two’, ‘chain_three’, and ‘chain_four’. The input variable “Review” is processed through these chains, generating three distinct output variables: “English_Review,” “summary,” and “followup_message.” The ‘overall_chain’ executes the input review through the specified chains and produces these outputs, facilitating a structured, sequential processing flow with detailed outputs."
   ]
  },
  {
   "cell_type": "code",
   "execution_count": 39,
   "id": "bcce3f95",
   "metadata": {},
   "outputs": [
    {
     "name": "stderr",
     "output_type": "stream",
     "text": [
      "Error in StdOutCallbackHandler.on_chain_start callback: AttributeError(\"'NoneType' object has no attribute 'get'\")\n"
     ]
    },
    {
     "name": "stdout",
     "output_type": "stream",
     "text": [
      "\n",
      "\u001b[1m> Finished chain.\u001b[0m\n"
     ]
    },
    {
     "data": {
      "text/plain": [
       "{'Review': 'Les ordinateurs portables GamersTech impressionne par ses\\n performances exceptionnelles et son design élégant. De sa configuration \\n matérielle robuste à un clavier RVB personnalisable et un système de \\n refroidissement efficace, il établit un équilibre parfait entre prouesses \\n de jeu et portabilité.',\n",
       " 'English_Review': '\\n\\nGamersTech laptops impress with their exceptional performance and elegant design. From its robust hardware configuration to a customizable RGB keyboard and efficient cooling system, it strikes the perfect balance between gaming prowess and portability.',\n",
       " 'summary': '\\n\\nGamersTech laptops offer impressive performance and sleek design, with powerful hardware, customizable features, and effective cooling for a perfect balance between gaming and portability.',\n",
       " 'followup_message': '\\n\\nRéponse :\\n\\nLes ordinateurs portables GamersTech offrent des performances impressionnantes et un design élégant, avec du matériel puissant, des fonctionnalités personnalisables et un refroidissement efficace pour un équilibre parfait entre le jeu et la portabilité. Nous sommes fiers de fournir à nos clients une expérience de jeu de qualité supérieure sans compromettre la facilité de transport de nos produits. Avec GamersTech, vous pouvez profiter de la puissance et du style, où que vous soyez.'}"
      ]
     },
     "execution_count": 39,
     "metadata": {},
     "output_type": "execute_result"
    }
   ],
   "source": [
    "overall_chain = SequentialChain(\n",
    "    chains=[chain_one, chain_two, chain_three, chain_four],\n",
    "    input_variables=[\"Review\"],\n",
    "    output_variables=[\"English_Review\", \"summary\",\"followup_message\"],\n",
    "    verbose=True\n",
    ")\n",
    "overall_chain(Review)"
   ]
  },
  {
   "cell_type": "markdown",
   "id": "7ae4486c",
   "metadata": {},
   "source": [
    "## Router Chain\n",
    "The Router Chain is used for complicated tasks. If we have multiple subchains, each of which is specialized for a particular type of input, we could have a router chain that decides which subchain to pass the input to.\n",
    "\n",
    "It consists of:\n",
    "\n",
    "- **Router Chain:** It is responsible for selecting the next chain to call.\n",
    "- **Destination Chains:** Chains that the router chain can route to.\n",
    "- **Default chain:** Used when the router can’t decide which subchain to use."
   ]
  },
  {
   "attachments": {
    "24af7c9f-e73a-4810-920a-0b5e0b620cb4.webp": {
     "image/webp": "[encoded data removed]"
    }
   },
   "cell_type": "markdown",
   "id": "e05363df",
   "metadata": {},
   "source": [
    "![7.webp](attachment:24af7c9f-e73a-4810-920a-0b5e0b620cb4.webp)"
   ]
  },
  {
   "cell_type": "markdown",
   "id": "56ee5dc3",
   "metadata": {},
   "source": [
    "This involves directing an input toward a specific chain based on what exactly that input is. When there are several subchains, each tailored for distinct input types, a router chain comes into play. This router chain acts as a decision-maker, determining which specialized subchain to send the input to. Essentially, it enables the seamless routing of inputs to the appropriate subchains, ensuring efficient and precise processing based on the input’s specific characteristics."
   ]
  },
  {
   "cell_type": "markdown",
   "id": "3c37017b",
   "metadata": {},
   "source": [
    "### Crafting Chains – Router Chain"
   ]
  },
  {
   "cell_type": "code",
   "execution_count": 40,
   "id": "3a06f876",
   "metadata": {},
   "outputs": [],
   "source": [
    "# Importing Necessary Libraries\n",
    "from langchain.chains.router import MultiPromptChain\n",
    "from langchain.chains.router.llm_router import LLMRouterChain,RouterOutputParser\n",
    "from langchain.prompts import PromptTemplate\n",
    "\n",
    "llm = OpenAI(temperature=0.7, openai_api_key=OPENAI_API_KEY)"
   ]
  },
  {
   "cell_type": "markdown",
   "id": "2ab5a9de",
   "metadata": {},
   "source": [
    "### Defining Prompt Templates\n",
    "\n",
    "Let’s consider a scenario where we need to direct inputs to specialized chains based on subjects such as Maths, Physics, History, or Computer Science. To accomplish this, we create distinct prompts for each subject: one for physics questions, another for math queries, a third for history inquiries, and a fourth for computer science-related matters. We meticulously design these prompts to cater to the unique needs of each subject area."
   ]
  },
  {
   "cell_type": "code",
   "execution_count": 41,
   "id": "506301f7",
   "metadata": {},
   "outputs": [],
   "source": [
    "physics_template = \"\"\"You are a very smart physics professor. \\\n",
    "You are great at answering questions about physics in a concise\\\n",
    "and easy to understand manner. \\\n",
    "When you don't know the answer to a question you admit\\\n",
    "that you don't know.\n",
    "\n",
    "Here is a question:\n",
    "{input}\"\"\"\n",
    "\n",
    "\n",
    "math_template = \"\"\"You are a very good mathematician. \\\n",
    "You are great at answering math questions. \\\n",
    "You are so good because you are able to break down \\\n",
    "hard problems into their component parts,\n",
    "answer the component parts, and then put them together\\\n",
    "to answer the broader question.\n",
    "\n",
    "Here is a question:\n",
    "{input}\"\"\"\n",
    "\n",
    "history_template = \"\"\"You are a very good historian. \\\n",
    "You have an excellent knowledge of and understanding of people,\\\n",
    "events and contexts from a range of historical periods. \\\n",
    "You have the ability to think, reflect, debate, discuss and \\\n",
    "evaluate the past. You have a respect for historical evidence\\\n",
    "and the ability to make use of it to support your explanations \\\n",
    "and judgements.\n",
    "\n",
    "Here is a question:\n",
    "{input}\"\"\"\n"
   ]
  },
  {
   "cell_type": "markdown",
   "id": "22872279",
   "metadata": {},
   "source": [
    "Furthermore, detailed information, including names and descriptions, can be attached to these prompt templates. This additional context provides a comprehensive understanding of each template’s purpose. This information is then supplied to the router chain. The router chain then determines which subchain to route to based on the specific subject, ensuring that the appropriate prompt template is utilized for precise and effective responses."
   ]
  },
  {
   "cell_type": "code",
   "execution_count": 42,
   "id": "3d896430",
   "metadata": {},
   "outputs": [],
   "source": [
    "# Defining the prompt templates\n",
    "prompt_infos = [\n",
    "    {\n",
    "        \"name\": \"physics\",\n",
    "        \"description\": \"Good for answering questions about physics\",\n",
    "        \"prompt_template\": physics_template\n",
    "    },\n",
    "    {\n",
    "        \"name\": \"math\",\n",
    "        \"description\": \"Good for answering math questions\",\n",
    "        \"prompt_template\": math_template\n",
    "    },\n",
    "    {\n",
    "        \"name\": \"History\",\n",
    "        \"description\": \"Good for answering history questions\",\n",
    "        \"prompt_template\": history_template\n",
    "    }\n",
    "]"
   ]
  },
  {
   "cell_type": "markdown",
   "id": "63a295d6",
   "metadata": {},
   "source": [
    "### Creating Destination Chains\n",
    "\n",
    "Next, our focus shifts to crafting destination chains. These chains are activated by the RouterChain, functioning as individual language model chains, specifically LLM chains. Additionally, a default chain is outlined to handle situations where the router encounters ambiguity and cannot determine the suitable subchain to utilize. This default chain acts as a fallback option, ensuring a response even in cases of indecision."
   ]
  },
  {
   "cell_type": "code",
   "execution_count": 43,
   "id": "800d421d",
   "metadata": {},
   "outputs": [],
   "source": [
    "destination_chains = {}\n",
    "for p_info in prompt_infos:\n",
    "    name = p_info[\"name\"]\n",
    "    prompt_template = p_info[\"prompt_template\"]\n",
    "    prompt = ChatPromptTemplate.from_template(template=prompt_template)\n",
    "    \n",
    "    chain = LLMChain(llm=llm, prompt=prompt)\n",
    "    destination_chains[name] = chain\n",
    "\n",
    "destinations = [f\"{p['name']}: {p['description']}\" for p in prompt_infos]\n",
    "destinations_str = \"\\n\".join(destinations)"
   ]
  },
  {
   "cell_type": "markdown",
   "id": "cbe2f471",
   "metadata": {},
   "source": [
    "#### Creating a Multi-prompt Router Template\n",
    "\n",
    "We establish a template guiding the LLM in directing interactions between various chains. This template not only outlines the specific task instructions but also dictates the precise format that the output should adhere to, ensuring a standardized and consistent response mechanism."
   ]
  },
  {
   "cell_type": "code",
   "execution_count": 44,
   "id": "3b9d8097",
   "metadata": {},
   "outputs": [],
   "source": [
    "MULTI_PROMPT_ROUTER_TEMPLATE = \"\"\"Given a raw text input to a \\\n",
    "language model select the model prompt best suited for the input. \\\n",
    "You will be given the names of the available prompts and a \\\n",
    "description of what the prompt is best suited for. \\\n",
    "You may also revise the original input if you think that revising\\\n",
    "it will ultimately lead to a better response from the language model.\n",
    "\n",
    "<< FORMATTING >>\n",
    "Return a markdown code snippet with a JSON object formatted to look like:\n",
    "```json\n",
    "{{{{\n",
    "    \"destination\": string \\ name of the prompt to use or \"DEFAULT\"\n",
    "    \"next_inputs\": string \\ a potentially modified version of the original input\n",
    "}}}}\n",
    "```\n",
    "\n",
    "REMEMBER: \"destination\" MUST be one of the candidate prompt \\\n",
    "names specified below OR it can be \"DEFAULT\" if the input is not\\\n",
    "well suited for any of the candidate prompts.\n",
    "REMEMBER: \"next_inputs\" can just be the original input \\\n",
    "if you don't think any modifications are needed.\n",
    "\n",
    "<< CANDIDATE PROMPTS >>\n",
    "{destinations}\n",
    "\n",
    "<< INPUT >>\n",
    "{{input}}\n",
    "\n",
    "<< OUTPUT (remember to include the ```json)>>\"\"\""
   ]
  },
  {
   "cell_type": "markdown",
   "id": "4b7ee674",
   "metadata": {},
   "source": [
    "#### Creating a Default Chain\n",
    "\n",
    "A preset prompt template is established to accommodate all types of input text. An associated LLMChain, named ‘default_chain,’ is then crafted using the designated Large Language Model and the predefined prompt. This setup enables the Large Language Model to generate responses based on any provided input text."
   ]
  },
  {
   "cell_type": "code",
   "execution_count": 45,
   "id": "5bb5133a",
   "metadata": {},
   "outputs": [],
   "source": [
    "default_prompt = ChatPromptTemplate.from_template(\"{input}\")\n",
    "\n",
    "default_chain = LLMChain(llm=llm, prompt=default_prompt)"
   ]
  },
  {
   "cell_type": "code",
   "execution_count": 46,
   "id": "17a9b1ae",
   "metadata": {},
   "outputs": [
    {
     "data": {
      "text/plain": [
       "ChatPromptTemplate(input_variables=['input'], input_types={}, partial_variables={}, messages=[HumanMessagePromptTemplate(prompt=PromptTemplate(input_variables=['input'], input_types={}, partial_variables={}, template='{input}'), additional_kwargs={})])"
      ]
     },
     "execution_count": 46,
     "metadata": {},
     "output_type": "execute_result"
    }
   ],
   "source": [
    "default_prompt"
   ]
  },
  {
   "cell_type": "code",
   "execution_count": 47,
   "id": "7b833eed",
   "metadata": {},
   "outputs": [
    {
     "data": {
      "text/plain": [
       "LLMChain(verbose=False, prompt=ChatPromptTemplate(input_variables=['input'], input_types={}, partial_variables={}, messages=[HumanMessagePromptTemplate(prompt=PromptTemplate(input_variables=['input'], input_types={}, partial_variables={}, template='{input}'), additional_kwargs={})]), llm=OpenAI(client=<openai.resources.completions.Completions object at 0x000001FB410F74F0>, async_client=<openai.resources.completions.AsyncCompletions object at 0x000001FB41118640>, model_kwargs={}, openai_api_key='sk-PEyVjpVdgQLnp5lHRPa0_yLk9ywTPeOKMTWHgfw5h8T3BlbkFJU6szIJ68QrMP3lqrKghoKK0lGbR4HL9Kd4HleQpF8A', openai_proxy='', logit_bias={}), output_parser=StrOutputParser(), llm_kwargs={})"
      ]
     },
     "execution_count": 47,
     "metadata": {},
     "output_type": "execute_result"
    }
   ],
   "source": [
    "default_chain"
   ]
  },
  {
   "cell_type": "markdown",
   "id": "a705b011",
   "metadata": {},
   "source": [
    "#### Creating Router Template\n",
    "Moving forward, a flexible router template is developed, encompassing a range of categories such as Physics, Math, History, and Computer Science. From this template, a distinct prompt template tailored for the router is created. Utilizing this customized template, a router chain is established, employing the Large Language Model and the corresponding router prompt.\n",
    "\n",
    "To improve decision-making capabilities, a router output parser is introduced. This parser assists the router chain in efficiently navigating between subchains. This comprehensive arrangement ensures that inputs are directed precisely to specific subchains, leading to accurate and targeted responses across various destination categories."
   ]
  },
  {
   "cell_type": "code",
   "execution_count": 48,
   "id": "1c0834b9",
   "metadata": {},
   "outputs": [],
   "source": [
    "router_template = MULTI_PROMPT_ROUTER_TEMPLATE.format(\n",
    "    destinations=destinations_str\n",
    ")\n",
    "router_prompt = PromptTemplate(\n",
    "    template=router_template,\n",
    "    input_variables=[\"input\"],\n",
    "    output_parser=RouterOutputParser(),\n",
    ")\n",
    "\n",
    "router_chain = LLMRouterChain.from_llm(llm, router_prompt)\n"
   ]
  },
  {
   "cell_type": "markdown",
   "id": "7d6e23bd",
   "metadata": {},
   "source": [
    "#### Chaining Everything Together\n",
    "A MultiPromptChain is created, incorporating a router chain to intelligently route inputs to specific destination chains. Additionally, a default chain is included to handle cases where the router chain may encounter ambiguity, ensuring a structured and effective processing flow with verbose logging enabled for detailed insights."
   ]
  },
  {
   "cell_type": "code",
   "execution_count": 49,
   "id": "a62e5298",
   "metadata": {},
   "outputs": [],
   "source": [
    "chain = MultiPromptChain(router_chain=router_chain,\n",
    "                         destination_chains=destination_chains,\n",
    "                         default_chain=default_chain, verbose=True\n",
    "                        )"
   ]
  },
  {
   "cell_type": "code",
   "execution_count": 50,
   "id": "85482bc1",
   "metadata": {},
   "outputs": [
    {
     "data": {
      "text/plain": [
       "MultiPromptChain(verbose=True, router_chain=LLMRouterChain(verbose=False, llm_chain=LLMChain(verbose=False, prompt=PromptTemplate(input_variables=['input'], input_types={}, output_parser=RouterOutputParser(), partial_variables={}, template='Given a raw text input to a language model select the model prompt best suited for the input. You will be given the names of the available prompts and a description of what the prompt is best suited for. You may also revise the original input if you think that revisingit will ultimately lead to a better response from the language model.\\n\\n<< FORMATTING >>\\nReturn a markdown code snippet with a JSON object formatted to look like:\\n```json\\n{{\\n    \"destination\": string \\\\ name of the prompt to use or \"DEFAULT\"\\n    \"next_inputs\": string \\\\ a potentially modified version of the original input\\n}}\\n```\\n\\nREMEMBER: \"destination\" MUST be one of the candidate prompt names specified below OR it can be \"DEFAULT\" if the input is notwell suited for any of the candidate prompts.\\nREMEMBER: \"next_inputs\" can just be the original input if you don\\'t think any modifications are needed.\\n\\n<< CANDIDATE PROMPTS >>\\nphysics: Good for answering questions about physics\\nmath: Good for answering math questions\\nHistory: Good for answering history questions\\n\\n<< INPUT >>\\n{input}\\n\\n<< OUTPUT (remember to include the ```json)>>'), llm=OpenAI(client=<openai.resources.completions.Completions object at 0x000001FB410F74F0>, async_client=<openai.resources.completions.AsyncCompletions object at 0x000001FB41118640>, model_kwargs={}, openai_api_key='sk-PEyVjpVdgQLnp5lHRPa0_yLk9ywTPeOKMTWHgfw5h8T3BlbkFJU6szIJ68QrMP3lqrKghoKK0lGbR4HL9Kd4HleQpF8A', openai_proxy='', logit_bias={}), output_parser=StrOutputParser(), llm_kwargs={})), destination_chains={'physics': LLMChain(verbose=False, prompt=ChatPromptTemplate(input_variables=['input'], input_types={}, partial_variables={}, messages=[HumanMessagePromptTemplate(prompt=PromptTemplate(input_variables=['input'], input_types={}, partial_variables={}, template=\"You are a very smart physics professor. You are great at answering questions about physics in a conciseand easy to understand manner. When you don't know the answer to a question you admitthat you don't know.\\n\\nHere is a question:\\n{input}\"), additional_kwargs={})]), llm=OpenAI(client=<openai.resources.completions.Completions object at 0x000001FB410F74F0>, async_client=<openai.resources.completions.AsyncCompletions object at 0x000001FB41118640>, model_kwargs={}, openai_api_key='sk-PEyVjpVdgQLnp5lHRPa0_yLk9ywTPeOKMTWHgfw5h8T3BlbkFJU6szIJ68QrMP3lqrKghoKK0lGbR4HL9Kd4HleQpF8A', openai_proxy='', logit_bias={}), output_parser=StrOutputParser(), llm_kwargs={}), 'math': LLMChain(verbose=False, prompt=ChatPromptTemplate(input_variables=['input'], input_types={}, partial_variables={}, messages=[HumanMessagePromptTemplate(prompt=PromptTemplate(input_variables=['input'], input_types={}, partial_variables={}, template='You are a very good mathematician. You are great at answering math questions. You are so good because you are able to break down hard problems into their component parts,\\nanswer the component parts, and then put them togetherto answer the broader question.\\n\\nHere is a question:\\n{input}'), additional_kwargs={})]), llm=OpenAI(client=<openai.resources.completions.Completions object at 0x000001FB410F74F0>, async_client=<openai.resources.completions.AsyncCompletions object at 0x000001FB41118640>, model_kwargs={}, openai_api_key='sk-PEyVjpVdgQLnp5lHRPa0_yLk9ywTPeOKMTWHgfw5h8T3BlbkFJU6szIJ68QrMP3lqrKghoKK0lGbR4HL9Kd4HleQpF8A', openai_proxy='', logit_bias={}), output_parser=StrOutputParser(), llm_kwargs={}), 'History': LLMChain(verbose=False, prompt=ChatPromptTemplate(input_variables=['input'], input_types={}, partial_variables={}, messages=[HumanMessagePromptTemplate(prompt=PromptTemplate(input_variables=['input'], input_types={}, partial_variables={}, template='You are a very good historian. You have an excellent knowledge of and understanding of people,events and contexts from a range of historical periods. You have the ability to think, reflect, debate, discuss and evaluate the past. You have a respect for historical evidenceand the ability to make use of it to support your explanations and judgements.\\n\\nHere is a question:\\n{input}'), additional_kwargs={})]), llm=OpenAI(client=<openai.resources.completions.Completions object at 0x000001FB410F74F0>, async_client=<openai.resources.completions.AsyncCompletions object at 0x000001FB41118640>, model_kwargs={}, openai_api_key='sk-PEyVjpVdgQLnp5lHRPa0_yLk9ywTPeOKMTWHgfw5h8T3BlbkFJU6szIJ68QrMP3lqrKghoKK0lGbR4HL9Kd4HleQpF8A', openai_proxy='', logit_bias={}), output_parser=StrOutputParser(), llm_kwargs={})}, default_chain=LLMChain(verbose=False, prompt=ChatPromptTemplate(input_variables=['input'], input_types={}, partial_variables={}, messages=[HumanMessagePromptTemplate(prompt=PromptTemplate(input_variables=['input'], input_types={}, partial_variables={}, template='{input}'), additional_kwargs={})]), llm=OpenAI(client=<openai.resources.completions.Completions object at 0x000001FB410F74F0>, async_client=<openai.resources.completions.AsyncCompletions object at 0x000001FB41118640>, model_kwargs={}, openai_api_key='sk-PEyVjpVdgQLnp5lHRPa0_yLk9ywTPeOKMTWHgfw5h8T3BlbkFJU6szIJ68QrMP3lqrKghoKK0lGbR4HL9Kd4HleQpF8A', openai_proxy='', logit_bias={}), output_parser=StrOutputParser(), llm_kwargs={}))"
      ]
     },
     "execution_count": 50,
     "metadata": {},
     "output_type": "execute_result"
    }
   ],
   "source": [
    "chain"
   ]
  },
  {
   "cell_type": "code",
   "execution_count": 51,
   "id": "2926534d",
   "metadata": {},
   "outputs": [
    {
     "name": "stderr",
     "output_type": "stream",
     "text": [
      "Error in StdOutCallbackHandler.on_chain_start callback: AttributeError(\"'NoneType' object has no attribute 'get'\")\n"
     ]
    },
    {
     "name": "stdout",
     "output_type": "stream",
     "text": [
      "None: {'input': 'what is your name'}\n",
      "\u001b[1m> Finished chain.\u001b[0m\n"
     ]
    },
    {
     "data": {
      "text/plain": [
       "'\\n\\nI am an AI digital assistant designed and created by a team of developers at OpenAI. I do not have a name as I am not a physical being. You can simply refer to me as OpenAI. How can I assist you?'"
      ]
     },
     "execution_count": 51,
     "metadata": {},
     "output_type": "execute_result"
    }
   ],
   "source": [
    "chain.run(\"what is your name\")"
   ]
  },
  {
   "cell_type": "code",
   "execution_count": 52,
   "id": "96d6e062",
   "metadata": {},
   "outputs": [
    {
     "name": "stderr",
     "output_type": "stream",
     "text": [
      "Error in StdOutCallbackHandler.on_chain_start callback: AttributeError(\"'NoneType' object has no attribute 'get'\")\n"
     ]
    },
    {
     "name": "stdout",
     "output_type": "stream",
     "text": [
      "physics: {'input': 'what is radiation?'}\n",
      "\u001b[1m> Finished chain.\u001b[0m\n"
     ]
    },
    {
     "data": {
      "text/plain": [
       "'\\n\\nRadiation is the emission or transmission of energy in the form of waves or particles through space or a material medium. It can be classified into several types, including electromagnetic radiation (such as light and radio waves), particle radiation (such as alpha and beta particles), and nuclear radiation (such as gamma rays). Radiation can be natural, such as from the sun or radioactive elements, or man-made, such as from X-rays or nuclear power plants. It can have both harmful and beneficial effects on living organisms and is an important concept in the field of physics.'"
      ]
     },
     "execution_count": 52,
     "metadata": {},
     "output_type": "execute_result"
    }
   ],
   "source": [
    "chain.run(\"what is radiation?\")"
   ]
  },
  {
   "cell_type": "code",
   "execution_count": 29,
   "id": "46043f1a",
   "metadata": {},
   "outputs": [
    {
     "name": "stdout",
     "output_type": "stream",
     "text": [
      "\n",
      "\n",
      "\u001b[1m> Entering new MultiPromptChain chain...\u001b[0m\n"
     ]
    },
    {
     "name": "stderr",
     "output_type": "stream",
     "text": [
      "C:\\Application\\anaconda\\envs\\python_new\\lib\\site-packages\\langchain\\chains\\llm.py:280: UserWarning: The predict_and_parse method is deprecated, instead pass an output parser directly to LLMChain.\n",
      "  warnings.warn(\n"
     ]
    },
    {
     "name": "stdout",
     "output_type": "stream",
     "text": [
      "physics: {'input': 'What is radiation?'}\n",
      "\u001b[1m> Finished chain.\u001b[0m\n"
     ]
    },
    {
     "data": {
      "text/plain": [
       "'\\n\\nAnswer: Radiation is the energy that is transmitted in the form of electromagnetic waves or particles. It can be either naturally occurring or artificially produced, and can be in the form of visible light, infrared or ultraviolet light, x-rays, gamma rays, alpha or beta particles. Radiation can also be used to transfer heat or to provide power for medical, industrial, and scientific applications.'"
      ]
     },
     "execution_count": 29,
     "metadata": {},
     "output_type": "execute_result"
    }
   ],
   "source": [
    "chain.run(\"what is radiation?\")"
   ]
  },
  {
   "cell_type": "code",
   "execution_count": 53,
   "id": "e89c7b22",
   "metadata": {},
   "outputs": [
    {
     "name": "stderr",
     "output_type": "stream",
     "text": [
      "Error in StdOutCallbackHandler.on_chain_start callback: AttributeError(\"'NoneType' object has no attribute 'get'\")\n"
     ]
    },
    {
     "name": "stdout",
     "output_type": "stream",
     "text": [
      "math: {'input': 'what is 2 + 8 + 18?'}\n",
      "\u001b[1m> Finished chain.\u001b[0m\n"
     ]
    },
    {
     "data": {
      "text/plain": [
       "'\\n\\nThe answer is 28.'"
      ]
     },
     "execution_count": 53,
     "metadata": {},
     "output_type": "execute_result"
    }
   ],
   "source": [
    "chain.run(\"what is 2 + 8 + 18?\")"
   ]
  },
  {
   "cell_type": "code",
   "execution_count": 54,
   "id": "e2c284c3",
   "metadata": {},
   "outputs": [
    {
     "name": "stderr",
     "output_type": "stream",
     "text": [
      "Error in StdOutCallbackHandler.on_chain_start callback: AttributeError(\"'NoneType' object has no attribute 'get'\")\n"
     ]
    },
    {
     "name": "stdout",
     "output_type": "stream",
     "text": [
      "math: {'input': 'what is 2 + 8 + 18 / 6 + 32?'}\n",
      "\u001b[1m> Finished chain.\u001b[0m\n"
     ]
    },
    {
     "data": {
      "text/plain": [
       "'\\n\\nThe answer is 44.'"
      ]
     },
     "execution_count": 54,
     "metadata": {},
     "output_type": "execute_result"
    }
   ],
   "source": [
    "chain.run(\"what is 2 + 8 + 18 / 6 + 32?\")"
   ]
  },
  {
   "cell_type": "code",
   "execution_count": null,
   "id": "a2c91feb-6371-4c8a-ab7b-f714e710b242",
   "metadata": {},
   "outputs": [],
   "source": []
  }
 ],
 "metadata": {
  "kernelspec": {
   "display_name": "Python 3 (ipykernel)",
   "language": "python",
   "name": "python3"
  },
  "language_info": {
   "codemirror_mode": {
    "name": "ipython",
    "version": 3
   },
   "file_extension": ".py",
   "mimetype": "text/x-python",
   "name": "python",
   "nbconvert_exporter": "python",
   "pygments_lexer": "ipython3",
   "version": "3.10.14"
  }
 },
 "nbformat": 4,
 "nbformat_minor": 5
}
