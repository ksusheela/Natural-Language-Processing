{
  "nbformat": 4,
  "nbformat_minor": 0,
  "metadata": {
    "colab": {
      "provenance": [],
      "include_colab_link": true
    },
    "kernelspec": {
      "name": "python3",
      "display_name": "Python 3"
    },
    "language_info": {
      "name": "python"
    }
  },
  "cells": [
    {
      "cell_type": "markdown",
      "metadata": {
        "id": "view-in-github",
        "colab_type": "text"
      },
      "source": [
        "<a href=\"https://colab.research.google.com/github/ksusheela/Natural-Language-Processing/blob/main/NLP_INTRO_RAG.ipynb\" target=\"_parent\"><img src=\"https://colab.research.google.com/assets/colab-badge.svg\" alt=\"Open In Colab\"/></a>"
      ]
    },
    {
      "cell_type": "code",
      "execution_count": null,
      "metadata": {
        "colab": {
          "base_uri": "https://localhost:8080/"
        },
        "id": "kPxMzMPvsFjj",
        "outputId": "4472765e-9e5a-47f6-f8a8-68cd45f2ed53"
      },
      "outputs": [
        {
          "output_type": "stream",
          "name": "stderr",
          "text": [
            "[nltk_data] Downloading package punkt to /root/nltk_data...\n",
            "[nltk_data]   Unzipping tokenizers/punkt.zip.\n"
          ]
        },
        {
          "output_type": "execute_result",
          "data": {
            "text/plain": [
              "True"
            ]
          },
          "metadata": {},
          "execution_count": 1
        }
      ],
      "source": [
        "import os\n",
        "import nltk\n",
        "nltk.download('punkt')"
      ]
    },
    {
      "cell_type": "code",
      "source": [
        "AI = 'NLP is basic building block to build llm model. ChatGPT is an advanced language model developed by OpenAI, based on the GPT (Generative Pre-trained Transformer) architecture. Specifically, ChatGPT belongs to the series of GPT models, with GPT-4 being one of the latest versions. These models are designed to understand and generate human-like text based on the input they receive.'"
      ],
      "metadata": {
        "id": "JLGSPeU3sd7v"
      },
      "execution_count": null,
      "outputs": []
    },
    {
      "cell_type": "code",
      "source": [
        "AI"
      ],
      "metadata": {
        "colab": {
          "base_uri": "https://localhost:8080/",
          "height": 72
        },
        "id": "7pkgaxVdsd5e",
        "outputId": "e840f3f9-2f3b-4176-b483-8383d2f41dd8"
      },
      "execution_count": null,
      "outputs": [
        {
          "output_type": "execute_result",
          "data": {
            "text/plain": [
              "'NLP is basic building block to build llm model. ChatGPT is an advanced language model developed by OpenAI, based on the GPT (Generative Pre-trained Transformer) architecture. Specifically, ChatGPT belongs to the series of GPT models, with GPT-4 being one of the latest versions. These models are designed to understand and generate human-like text based on the input they receive.'"
            ],
            "application/vnd.google.colaboratory.intrinsic+json": {
              "type": "string"
            }
          },
          "metadata": {},
          "execution_count": 3
        }
      ]
    },
    {
      "cell_type": "code",
      "source": [
        "type(AI)"
      ],
      "metadata": {
        "colab": {
          "base_uri": "https://localhost:8080/"
        },
        "id": "BgMdWTxCsd21",
        "outputId": "b2ac8932-abdf-4ef4-e623-99a205ae869f"
      },
      "execution_count": null,
      "outputs": [
        {
          "output_type": "execute_result",
          "data": {
            "text/plain": [
              "str"
            ]
          },
          "metadata": {},
          "execution_count": 4
        }
      ]
    },
    {
      "cell_type": "markdown",
      "source": [
        "# SENTENCE"
      ],
      "metadata": {
        "id": "W2t4jimPumpK"
      }
    },
    {
      "cell_type": "code",
      "source": [
        "from nltk.tokenize import sent_tokenize\n",
        "sent_tokens = sent_tokenize(AI)\n",
        "sent_tokens"
      ],
      "metadata": {
        "colab": {
          "base_uri": "https://localhost:8080/"
        },
        "id": "gItYZCrasd0b",
        "outputId": "02e16140-74d0-4b63-a6da-09d09103f870"
      },
      "execution_count": null,
      "outputs": [
        {
          "output_type": "execute_result",
          "data": {
            "text/plain": [
              "['NLP is basic building block to build llm model.',\n",
              " 'ChatGPT is an advanced language model developed by OpenAI, based on the GPT (Generative Pre-trained Transformer) architecture.',\n",
              " 'Specifically, ChatGPT belongs to the series of GPT models, with GPT-4 being one of the latest versions.',\n",
              " 'These models are designed to understand and generate human-like text based on the input they receive.']"
            ]
          },
          "metadata": {},
          "execution_count": 5
        }
      ]
    },
    {
      "cell_type": "code",
      "source": [
        "len(sent_tokens)"
      ],
      "metadata": {
        "colab": {
          "base_uri": "https://localhost:8080/"
        },
        "id": "4gFpFJdTsdx1",
        "outputId": "5e8cc472-86fc-48fb-f8e5-397c1ed254b3"
      },
      "execution_count": null,
      "outputs": [
        {
          "output_type": "execute_result",
          "data": {
            "text/plain": [
              "4"
            ]
          },
          "metadata": {},
          "execution_count": 7
        }
      ]
    },
    {
      "cell_type": "markdown",
      "source": [
        "# WORD TOKENS"
      ],
      "metadata": {
        "id": "UXWZ52wevP9K"
      }
    },
    {
      "cell_type": "code",
      "source": [
        "from nltk.tokenize import word_tokenize\n",
        "AI_tokens = word_tokenize(AI)\n",
        "AI_tokens"
      ],
      "metadata": {
        "colab": {
          "base_uri": "https://localhost:8080/"
        },
        "id": "eHLQc6aIsdvC",
        "outputId": "ceb5f49d-1d22-4126-cd90-ef80173f55d8"
      },
      "execution_count": null,
      "outputs": [
        {
          "output_type": "execute_result",
          "data": {
            "text/plain": [
              "['NLP',\n",
              " 'is',\n",
              " 'basic',\n",
              " 'building',\n",
              " 'block',\n",
              " 'to',\n",
              " 'build',\n",
              " 'llm',\n",
              " 'model',\n",
              " '.',\n",
              " 'ChatGPT',\n",
              " 'is',\n",
              " 'an',\n",
              " 'advanced',\n",
              " 'language',\n",
              " 'model',\n",
              " 'developed',\n",
              " 'by',\n",
              " 'OpenAI',\n",
              " ',',\n",
              " 'based',\n",
              " 'on',\n",
              " 'the',\n",
              " 'GPT',\n",
              " '(',\n",
              " 'Generative',\n",
              " 'Pre-trained',\n",
              " 'Transformer',\n",
              " ')',\n",
              " 'architecture',\n",
              " '.',\n",
              " 'Specifically',\n",
              " ',',\n",
              " 'ChatGPT',\n",
              " 'belongs',\n",
              " 'to',\n",
              " 'the',\n",
              " 'series',\n",
              " 'of',\n",
              " 'GPT',\n",
              " 'models',\n",
              " ',',\n",
              " 'with',\n",
              " 'GPT-4',\n",
              " 'being',\n",
              " 'one',\n",
              " 'of',\n",
              " 'the',\n",
              " 'latest',\n",
              " 'versions',\n",
              " '.',\n",
              " 'These',\n",
              " 'models',\n",
              " 'are',\n",
              " 'designed',\n",
              " 'to',\n",
              " 'understand',\n",
              " 'and',\n",
              " 'generate',\n",
              " 'human-like',\n",
              " 'text',\n",
              " 'based',\n",
              " 'on',\n",
              " 'the',\n",
              " 'input',\n",
              " 'they',\n",
              " 'receive',\n",
              " '.']"
            ]
          },
          "metadata": {},
          "execution_count": 9
        }
      ]
    },
    {
      "cell_type": "markdown",
      "source": [
        "# TOKEN FREQUENCY"
      ],
      "metadata": {
        "id": "3fYbo3sMwLhY"
      }
    },
    {
      "cell_type": "code",
      "source": [
        "from nltk.probability import FreqDist\n",
        "fdist = FreqDist()\n",
        "fdist"
      ],
      "metadata": {
        "colab": {
          "base_uri": "https://localhost:8080/"
        },
        "id": "IkdgI68ssdsc",
        "outputId": "801af5c7-f85e-41ea-e512-1a520e705156"
      },
      "execution_count": null,
      "outputs": [
        {
          "output_type": "execute_result",
          "data": {
            "text/plain": [
              "FreqDist({})"
            ]
          },
          "metadata": {},
          "execution_count": 15
        }
      ]
    },
    {
      "cell_type": "code",
      "source": [
        "for word in AI_tokens:\n",
        "  fdist[word.lower()]+=1\n",
        "fdist"
      ],
      "metadata": {
        "colab": {
          "base_uri": "https://localhost:8080/"
        },
        "id": "Yuw90Jkmsdpl",
        "outputId": "c517e10e-3a52-4b2a-d988-2d8840081b7d"
      },
      "execution_count": null,
      "outputs": [
        {
          "output_type": "execute_result",
          "data": {
            "text/plain": [
              "FreqDist({'.': 4, 'the': 4, 'to': 3, ',': 3, 'is': 2, 'model': 2, 'chatgpt': 2, 'based': 2, 'on': 2, 'gpt': 2, ...})"
            ]
          },
          "metadata": {},
          "execution_count": 16
        }
      ]
    },
    {
      "cell_type": "code",
      "source": [
        "fdist['model']"
      ],
      "metadata": {
        "colab": {
          "base_uri": "https://localhost:8080/"
        },
        "id": "L2UL7uAHsdnK",
        "outputId": "7da67afa-6ac1-4cf0-e722-4cc8ecec02e9"
      },
      "execution_count": null,
      "outputs": [
        {
          "output_type": "execute_result",
          "data": {
            "text/plain": [
              "2"
            ]
          },
          "metadata": {},
          "execution_count": 18
        }
      ]
    },
    {
      "cell_type": "code",
      "source": [
        "fdist['chatgpt']"
      ],
      "metadata": {
        "colab": {
          "base_uri": "https://localhost:8080/"
        },
        "id": "ay4YjNGvxzYM",
        "outputId": "f488fc83-a5f2-49dd-8d00-ab6d007edb8c"
      },
      "execution_count": null,
      "outputs": [
        {
          "output_type": "execute_result",
          "data": {
            "text/plain": [
              "2"
            ]
          },
          "metadata": {},
          "execution_count": 19
        }
      ]
    },
    {
      "cell_type": "markdown",
      "source": [
        "# tokens type - bigram, trigram, ngram"
      ],
      "metadata": {
        "id": "A0sxL8jhyPKK"
      }
    },
    {
      "cell_type": "code",
      "source": [
        "from nltk.util import bigrams, trigrams, ngrams"
      ],
      "metadata": {
        "id": "Kw42DjbuxzWH"
      },
      "execution_count": null,
      "outputs": []
    },
    {
      "cell_type": "code",
      "source": [
        "bigrams = list(nltk.bigrams(AI_tokens))\n",
        "bigrams"
      ],
      "metadata": {
        "colab": {
          "base_uri": "https://localhost:8080/"
        },
        "id": "Jhd8g-MYyOIj",
        "outputId": "3020a3a8-9d46-4dcc-d808-5e0a7fab4c1f"
      },
      "execution_count": null,
      "outputs": [
        {
          "output_type": "execute_result",
          "data": {
            "text/plain": [
              "[('NLP', 'is'),\n",
              " ('is', 'basic'),\n",
              " ('basic', 'building'),\n",
              " ('building', 'block'),\n",
              " ('block', 'to'),\n",
              " ('to', 'build'),\n",
              " ('build', 'llm'),\n",
              " ('llm', 'model'),\n",
              " ('model', '.'),\n",
              " ('.', 'ChatGPT'),\n",
              " ('ChatGPT', 'is'),\n",
              " ('is', 'an'),\n",
              " ('an', 'advanced'),\n",
              " ('advanced', 'language'),\n",
              " ('language', 'model'),\n",
              " ('model', 'developed'),\n",
              " ('developed', 'by'),\n",
              " ('by', 'OpenAI'),\n",
              " ('OpenAI', ','),\n",
              " (',', 'based'),\n",
              " ('based', 'on'),\n",
              " ('on', 'the'),\n",
              " ('the', 'GPT'),\n",
              " ('GPT', '('),\n",
              " ('(', 'Generative'),\n",
              " ('Generative', 'Pre-trained'),\n",
              " ('Pre-trained', 'Transformer'),\n",
              " ('Transformer', ')'),\n",
              " (')', 'architecture'),\n",
              " ('architecture', '.'),\n",
              " ('.', 'Specifically'),\n",
              " ('Specifically', ','),\n",
              " (',', 'ChatGPT'),\n",
              " ('ChatGPT', 'belongs'),\n",
              " ('belongs', 'to'),\n",
              " ('to', 'the'),\n",
              " ('the', 'series'),\n",
              " ('series', 'of'),\n",
              " ('of', 'GPT'),\n",
              " ('GPT', 'models'),\n",
              " ('models', ','),\n",
              " (',', 'with'),\n",
              " ('with', 'GPT-4'),\n",
              " ('GPT-4', 'being'),\n",
              " ('being', 'one'),\n",
              " ('one', 'of'),\n",
              " ('of', 'the'),\n",
              " ('the', 'latest'),\n",
              " ('latest', 'versions'),\n",
              " ('versions', '.'),\n",
              " ('.', 'These'),\n",
              " ('These', 'models'),\n",
              " ('models', 'are'),\n",
              " ('are', 'designed'),\n",
              " ('designed', 'to'),\n",
              " ('to', 'understand'),\n",
              " ('understand', 'and'),\n",
              " ('and', 'generate'),\n",
              " ('generate', 'human-like'),\n",
              " ('human-like', 'text'),\n",
              " ('text', 'based'),\n",
              " ('based', 'on'),\n",
              " ('on', 'the'),\n",
              " ('the', 'input'),\n",
              " ('input', 'they'),\n",
              " ('they', 'receive'),\n",
              " ('receive', '.')]"
            ]
          },
          "metadata": {},
          "execution_count": 27
        }
      ]
    },
    {
      "cell_type": "code",
      "source": [
        "trigrams = list(nltk.trigrams(AI_tokens))\n",
        "trigrams"
      ],
      "metadata": {
        "colab": {
          "base_uri": "https://localhost:8080/"
        },
        "id": "2hMmSTDlxzTt",
        "outputId": "e1bf6eb6-7f33-4447-f1bc-449895067239"
      },
      "execution_count": null,
      "outputs": [
        {
          "output_type": "execute_result",
          "data": {
            "text/plain": [
              "[('NLP', 'is', 'basic'),\n",
              " ('is', 'basic', 'building'),\n",
              " ('basic', 'building', 'block'),\n",
              " ('building', 'block', 'to'),\n",
              " ('block', 'to', 'build'),\n",
              " ('to', 'build', 'llm'),\n",
              " ('build', 'llm', 'model'),\n",
              " ('llm', 'model', '.'),\n",
              " ('model', '.', 'ChatGPT'),\n",
              " ('.', 'ChatGPT', 'is'),\n",
              " ('ChatGPT', 'is', 'an'),\n",
              " ('is', 'an', 'advanced'),\n",
              " ('an', 'advanced', 'language'),\n",
              " ('advanced', 'language', 'model'),\n",
              " ('language', 'model', 'developed'),\n",
              " ('model', 'developed', 'by'),\n",
              " ('developed', 'by', 'OpenAI'),\n",
              " ('by', 'OpenAI', ','),\n",
              " ('OpenAI', ',', 'based'),\n",
              " (',', 'based', 'on'),\n",
              " ('based', 'on', 'the'),\n",
              " ('on', 'the', 'GPT'),\n",
              " ('the', 'GPT', '('),\n",
              " ('GPT', '(', 'Generative'),\n",
              " ('(', 'Generative', 'Pre-trained'),\n",
              " ('Generative', 'Pre-trained', 'Transformer'),\n",
              " ('Pre-trained', 'Transformer', ')'),\n",
              " ('Transformer', ')', 'architecture'),\n",
              " (')', 'architecture', '.'),\n",
              " ('architecture', '.', 'Specifically'),\n",
              " ('.', 'Specifically', ','),\n",
              " ('Specifically', ',', 'ChatGPT'),\n",
              " (',', 'ChatGPT', 'belongs'),\n",
              " ('ChatGPT', 'belongs', 'to'),\n",
              " ('belongs', 'to', 'the'),\n",
              " ('to', 'the', 'series'),\n",
              " ('the', 'series', 'of'),\n",
              " ('series', 'of', 'GPT'),\n",
              " ('of', 'GPT', 'models'),\n",
              " ('GPT', 'models', ','),\n",
              " ('models', ',', 'with'),\n",
              " (',', 'with', 'GPT-4'),\n",
              " ('with', 'GPT-4', 'being'),\n",
              " ('GPT-4', 'being', 'one'),\n",
              " ('being', 'one', 'of'),\n",
              " ('one', 'of', 'the'),\n",
              " ('of', 'the', 'latest'),\n",
              " ('the', 'latest', 'versions'),\n",
              " ('latest', 'versions', '.'),\n",
              " ('versions', '.', 'These'),\n",
              " ('.', 'These', 'models'),\n",
              " ('These', 'models', 'are'),\n",
              " ('models', 'are', 'designed'),\n",
              " ('are', 'designed', 'to'),\n",
              " ('designed', 'to', 'understand'),\n",
              " ('to', 'understand', 'and'),\n",
              " ('understand', 'and', 'generate'),\n",
              " ('and', 'generate', 'human-like'),\n",
              " ('generate', 'human-like', 'text'),\n",
              " ('human-like', 'text', 'based'),\n",
              " ('text', 'based', 'on'),\n",
              " ('based', 'on', 'the'),\n",
              " ('on', 'the', 'input'),\n",
              " ('the', 'input', 'they'),\n",
              " ('input', 'they', 'receive'),\n",
              " ('they', 'receive', '.')]"
            ]
          },
          "metadata": {},
          "execution_count": 28
        }
      ]
    },
    {
      "cell_type": "code",
      "source": [
        "ngrams = list(nltk.ngrams(AI_tokens, 5))\n",
        "ngrams"
      ],
      "metadata": {
        "colab": {
          "base_uri": "https://localhost:8080/"
        },
        "id": "Mmop9U3cxzIt",
        "outputId": "8c2395c1-aa1f-4675-9820-9494235a5437"
      },
      "execution_count": null,
      "outputs": [
        {
          "output_type": "execute_result",
          "data": {
            "text/plain": [
              "[('NLP', 'is', 'basic', 'building', 'block'),\n",
              " ('is', 'basic', 'building', 'block', 'to'),\n",
              " ('basic', 'building', 'block', 'to', 'build'),\n",
              " ('building', 'block', 'to', 'build', 'llm'),\n",
              " ('block', 'to', 'build', 'llm', 'model'),\n",
              " ('to', 'build', 'llm', 'model', '.'),\n",
              " ('build', 'llm', 'model', '.', 'ChatGPT'),\n",
              " ('llm', 'model', '.', 'ChatGPT', 'is'),\n",
              " ('model', '.', 'ChatGPT', 'is', 'an'),\n",
              " ('.', 'ChatGPT', 'is', 'an', 'advanced'),\n",
              " ('ChatGPT', 'is', 'an', 'advanced', 'language'),\n",
              " ('is', 'an', 'advanced', 'language', 'model'),\n",
              " ('an', 'advanced', 'language', 'model', 'developed'),\n",
              " ('advanced', 'language', 'model', 'developed', 'by'),\n",
              " ('language', 'model', 'developed', 'by', 'OpenAI'),\n",
              " ('model', 'developed', 'by', 'OpenAI', ','),\n",
              " ('developed', 'by', 'OpenAI', ',', 'based'),\n",
              " ('by', 'OpenAI', ',', 'based', 'on'),\n",
              " ('OpenAI', ',', 'based', 'on', 'the'),\n",
              " (',', 'based', 'on', 'the', 'GPT'),\n",
              " ('based', 'on', 'the', 'GPT', '('),\n",
              " ('on', 'the', 'GPT', '(', 'Generative'),\n",
              " ('the', 'GPT', '(', 'Generative', 'Pre-trained'),\n",
              " ('GPT', '(', 'Generative', 'Pre-trained', 'Transformer'),\n",
              " ('(', 'Generative', 'Pre-trained', 'Transformer', ')'),\n",
              " ('Generative', 'Pre-trained', 'Transformer', ')', 'architecture'),\n",
              " ('Pre-trained', 'Transformer', ')', 'architecture', '.'),\n",
              " ('Transformer', ')', 'architecture', '.', 'Specifically'),\n",
              " (')', 'architecture', '.', 'Specifically', ','),\n",
              " ('architecture', '.', 'Specifically', ',', 'ChatGPT'),\n",
              " ('.', 'Specifically', ',', 'ChatGPT', 'belongs'),\n",
              " ('Specifically', ',', 'ChatGPT', 'belongs', 'to'),\n",
              " (',', 'ChatGPT', 'belongs', 'to', 'the'),\n",
              " ('ChatGPT', 'belongs', 'to', 'the', 'series'),\n",
              " ('belongs', 'to', 'the', 'series', 'of'),\n",
              " ('to', 'the', 'series', 'of', 'GPT'),\n",
              " ('the', 'series', 'of', 'GPT', 'models'),\n",
              " ('series', 'of', 'GPT', 'models', ','),\n",
              " ('of', 'GPT', 'models', ',', 'with'),\n",
              " ('GPT', 'models', ',', 'with', 'GPT-4'),\n",
              " ('models', ',', 'with', 'GPT-4', 'being'),\n",
              " (',', 'with', 'GPT-4', 'being', 'one'),\n",
              " ('with', 'GPT-4', 'being', 'one', 'of'),\n",
              " ('GPT-4', 'being', 'one', 'of', 'the'),\n",
              " ('being', 'one', 'of', 'the', 'latest'),\n",
              " ('one', 'of', 'the', 'latest', 'versions'),\n",
              " ('of', 'the', 'latest', 'versions', '.'),\n",
              " ('the', 'latest', 'versions', '.', 'These'),\n",
              " ('latest', 'versions', '.', 'These', 'models'),\n",
              " ('versions', '.', 'These', 'models', 'are'),\n",
              " ('.', 'These', 'models', 'are', 'designed'),\n",
              " ('These', 'models', 'are', 'designed', 'to'),\n",
              " ('models', 'are', 'designed', 'to', 'understand'),\n",
              " ('are', 'designed', 'to', 'understand', 'and'),\n",
              " ('designed', 'to', 'understand', 'and', 'generate'),\n",
              " ('to', 'understand', 'and', 'generate', 'human-like'),\n",
              " ('understand', 'and', 'generate', 'human-like', 'text'),\n",
              " ('and', 'generate', 'human-like', 'text', 'based'),\n",
              " ('generate', 'human-like', 'text', 'based', 'on'),\n",
              " ('human-like', 'text', 'based', 'on', 'the'),\n",
              " ('text', 'based', 'on', 'the', 'input'),\n",
              " ('based', 'on', 'the', 'input', 'they'),\n",
              " ('on', 'the', 'input', 'they', 'receive'),\n",
              " ('the', 'input', 'they', 'receive', '.')]"
            ]
          },
          "metadata": {},
          "execution_count": 37
        }
      ]
    },
    {
      "cell_type": "markdown",
      "source": [
        "# stemming"
      ],
      "metadata": {
        "id": "8SSa8njt2AAI"
      }
    },
    {
      "cell_type": "code",
      "source": [
        "from nltk.stem import PorterStemmer\n",
        "pst = PorterStemmer()"
      ],
      "metadata": {
        "id": "zlCAtbA6sdkv"
      },
      "execution_count": null,
      "outputs": []
    },
    {
      "cell_type": "code",
      "source": [
        "pst.stem('playing')"
      ],
      "metadata": {
        "colab": {
          "base_uri": "https://localhost:8080/",
          "height": 36
        },
        "id": "e7mCrFZPsdiM",
        "outputId": "0296d96c-f811-4a71-b8c4-4097371d94f3"
      },
      "execution_count": null,
      "outputs": [
        {
          "output_type": "execute_result",
          "data": {
            "text/plain": [
              "'play'"
            ],
            "application/vnd.google.colaboratory.intrinsic+json": {
              "type": "string"
            }
          },
          "metadata": {},
          "execution_count": 41
        }
      ]
    },
    {
      "cell_type": "code",
      "source": [
        "pst.stem('affected')"
      ],
      "metadata": {
        "colab": {
          "base_uri": "https://localhost:8080/",
          "height": 36
        },
        "id": "Jd2t4F9isddG",
        "outputId": "495e783e-c52d-413d-8ad1-01b8d0e3b5ac"
      },
      "execution_count": null,
      "outputs": [
        {
          "output_type": "execute_result",
          "data": {
            "text/plain": [
              "'affect'"
            ],
            "application/vnd.google.colaboratory.intrinsic+json": {
              "type": "string"
            }
          },
          "metadata": {},
          "execution_count": 43
        }
      ]
    },
    {
      "cell_type": "code",
      "source": [
        "words_to_stem = ['give', 'giving', 'given', 'gave', 'loving', 'thinking', 'playing']\n",
        "for words in words_to_stem:\n",
        "  print(words + ' : ' + pst.stem(words))"
      ],
      "metadata": {
        "colab": {
          "base_uri": "https://localhost:8080/"
        },
        "id": "ggmtTV-U1F_2",
        "outputId": "bcec7316-08c1-41d7-c72e-ea3b88e10f07"
      },
      "execution_count": null,
      "outputs": [
        {
          "output_type": "stream",
          "name": "stdout",
          "text": [
            "give : give\n",
            "giving : give\n",
            "given : given\n",
            "gave : gave\n",
            "loving : love\n",
            "thinking : think\n",
            "playing : play\n"
          ]
        }
      ]
    },
    {
      "cell_type": "markdown",
      "source": [
        "# lemmatization"
      ],
      "metadata": {
        "id": "zIn5D02d2CES"
      }
    },
    {
      "cell_type": "code",
      "source": [
        "import nltk\n",
        "nltk.download('wordnet')"
      ],
      "metadata": {
        "colab": {
          "base_uri": "https://localhost:8080/"
        },
        "id": "4F4km6Dz27O5",
        "outputId": "3180f53c-202e-429e-c21f-86517c2d99b0"
      },
      "execution_count": null,
      "outputs": [
        {
          "output_type": "stream",
          "name": "stderr",
          "text": [
            "[nltk_data] Downloading package wordnet to /root/nltk_data...\n"
          ]
        },
        {
          "output_type": "execute_result",
          "data": {
            "text/plain": [
              "True"
            ]
          },
          "metadata": {},
          "execution_count": 50
        }
      ]
    },
    {
      "cell_type": "code",
      "source": [
        "from nltk.stem import wordnet\n",
        "from nltk.stem import WordNetLemmatizer\n",
        "lemmatizer = WordNetLemmatizer()"
      ],
      "metadata": {
        "id": "VulDCXDC1GCS"
      },
      "execution_count": null,
      "outputs": []
    },
    {
      "cell_type": "code",
      "source": [
        "for words in words_to_stem:\n",
        "  print(words + ' : ' + lemmatizer.lemmatize(words))"
      ],
      "metadata": {
        "colab": {
          "base_uri": "https://localhost:8080/"
        },
        "id": "c-yC6__r1GEy",
        "outputId": "4fdb976e-e414-4aeb-b655-107be0f6554d"
      },
      "execution_count": null,
      "outputs": [
        {
          "output_type": "stream",
          "name": "stdout",
          "text": [
            "give : give\n",
            "giving : giving\n",
            "given : given\n",
            "gave : gave\n",
            "loving : loving\n",
            "thinking : thinking\n",
            "playing : playing\n"
          ]
        }
      ]
    },
    {
      "cell_type": "code",
      "source": [
        "from nltk.corpus import stopwords"
      ],
      "metadata": {
        "id": "AcVAdWOM1GHQ"
      },
      "execution_count": null,
      "outputs": []
    },
    {
      "cell_type": "code",
      "source": [
        " import nltk\n",
        " nltk.download('stopwords')"
      ],
      "metadata": {
        "colab": {
          "base_uri": "https://localhost:8080/"
        },
        "id": "C8Nhf1fu4NvX",
        "outputId": "1917a6cf-37f7-48b5-ce42-c535c2621095"
      },
      "execution_count": null,
      "outputs": [
        {
          "output_type": "stream",
          "name": "stderr",
          "text": [
            "[nltk_data] Downloading package stopwords to /root/nltk_data...\n",
            "[nltk_data]   Unzipping corpora/stopwords.zip.\n"
          ]
        },
        {
          "output_type": "execute_result",
          "data": {
            "text/plain": [
              "True"
            ]
          },
          "metadata": {},
          "execution_count": 55
        }
      ]
    },
    {
      "cell_type": "code",
      "source": [
        "stopwords.words('english')"
      ],
      "metadata": {
        "colab": {
          "base_uri": "https://localhost:8080/"
        },
        "id": "nbntArgh3ufb",
        "outputId": "a8796a16-1b84-4bfa-f9e4-a3be5fab3c47"
      },
      "execution_count": null,
      "outputs": [
        {
          "output_type": "execute_result",
          "data": {
            "text/plain": [
              "['i',\n",
              " 'me',\n",
              " 'my',\n",
              " 'myself',\n",
              " 'we',\n",
              " 'our',\n",
              " 'ours',\n",
              " 'ourselves',\n",
              " 'you',\n",
              " \"you're\",\n",
              " \"you've\",\n",
              " \"you'll\",\n",
              " \"you'd\",\n",
              " 'your',\n",
              " 'yours',\n",
              " 'yourself',\n",
              " 'yourselves',\n",
              " 'he',\n",
              " 'him',\n",
              " 'his',\n",
              " 'himself',\n",
              " 'she',\n",
              " \"she's\",\n",
              " 'her',\n",
              " 'hers',\n",
              " 'herself',\n",
              " 'it',\n",
              " \"it's\",\n",
              " 'its',\n",
              " 'itself',\n",
              " 'they',\n",
              " 'them',\n",
              " 'their',\n",
              " 'theirs',\n",
              " 'themselves',\n",
              " 'what',\n",
              " 'which',\n",
              " 'who',\n",
              " 'whom',\n",
              " 'this',\n",
              " 'that',\n",
              " \"that'll\",\n",
              " 'these',\n",
              " 'those',\n",
              " 'am',\n",
              " 'is',\n",
              " 'are',\n",
              " 'was',\n",
              " 'were',\n",
              " 'be',\n",
              " 'been',\n",
              " 'being',\n",
              " 'have',\n",
              " 'has',\n",
              " 'had',\n",
              " 'having',\n",
              " 'do',\n",
              " 'does',\n",
              " 'did',\n",
              " 'doing',\n",
              " 'a',\n",
              " 'an',\n",
              " 'the',\n",
              " 'and',\n",
              " 'but',\n",
              " 'if',\n",
              " 'or',\n",
              " 'because',\n",
              " 'as',\n",
              " 'until',\n",
              " 'while',\n",
              " 'of',\n",
              " 'at',\n",
              " 'by',\n",
              " 'for',\n",
              " 'with',\n",
              " 'about',\n",
              " 'against',\n",
              " 'between',\n",
              " 'into',\n",
              " 'through',\n",
              " 'during',\n",
              " 'before',\n",
              " 'after',\n",
              " 'above',\n",
              " 'below',\n",
              " 'to',\n",
              " 'from',\n",
              " 'up',\n",
              " 'down',\n",
              " 'in',\n",
              " 'out',\n",
              " 'on',\n",
              " 'off',\n",
              " 'over',\n",
              " 'under',\n",
              " 'again',\n",
              " 'further',\n",
              " 'then',\n",
              " 'once',\n",
              " 'here',\n",
              " 'there',\n",
              " 'when',\n",
              " 'where',\n",
              " 'why',\n",
              " 'how',\n",
              " 'all',\n",
              " 'any',\n",
              " 'both',\n",
              " 'each',\n",
              " 'few',\n",
              " 'more',\n",
              " 'most',\n",
              " 'other',\n",
              " 'some',\n",
              " 'such',\n",
              " 'no',\n",
              " 'nor',\n",
              " 'not',\n",
              " 'only',\n",
              " 'own',\n",
              " 'same',\n",
              " 'so',\n",
              " 'than',\n",
              " 'too',\n",
              " 'very',\n",
              " 's',\n",
              " 't',\n",
              " 'can',\n",
              " 'will',\n",
              " 'just',\n",
              " 'don',\n",
              " \"don't\",\n",
              " 'should',\n",
              " \"should've\",\n",
              " 'now',\n",
              " 'd',\n",
              " 'll',\n",
              " 'm',\n",
              " 'o',\n",
              " 're',\n",
              " 've',\n",
              " 'y',\n",
              " 'ain',\n",
              " 'aren',\n",
              " \"aren't\",\n",
              " 'couldn',\n",
              " \"couldn't\",\n",
              " 'didn',\n",
              " \"didn't\",\n",
              " 'doesn',\n",
              " \"doesn't\",\n",
              " 'hadn',\n",
              " \"hadn't\",\n",
              " 'hasn',\n",
              " \"hasn't\",\n",
              " 'haven',\n",
              " \"haven't\",\n",
              " 'isn',\n",
              " \"isn't\",\n",
              " 'ma',\n",
              " 'mightn',\n",
              " \"mightn't\",\n",
              " 'mustn',\n",
              " \"mustn't\",\n",
              " 'needn',\n",
              " \"needn't\",\n",
              " 'shan',\n",
              " \"shan't\",\n",
              " 'shouldn',\n",
              " \"shouldn't\",\n",
              " 'wasn',\n",
              " \"wasn't\",\n",
              " 'weren',\n",
              " \"weren't\",\n",
              " 'won',\n",
              " \"won't\",\n",
              " 'wouldn',\n",
              " \"wouldn't\"]"
            ]
          },
          "metadata": {},
          "execution_count": 56
        }
      ]
    },
    {
      "cell_type": "code",
      "source": [
        "len(stopwords.words('english'))"
      ],
      "metadata": {
        "colab": {
          "base_uri": "https://localhost:8080/"
        },
        "id": "v7mxZyHq3dAb",
        "outputId": "cec732f8-fa86-4b64-9efb-c2441c95b0e5"
      },
      "execution_count": null,
      "outputs": [
        {
          "output_type": "execute_result",
          "data": {
            "text/plain": [
              "179"
            ]
          },
          "metadata": {},
          "execution_count": 57
        }
      ]
    },
    {
      "cell_type": "code",
      "source": [
        "stopwords.words('chinese')"
      ],
      "metadata": {
        "colab": {
          "base_uri": "https://localhost:8080/"
        },
        "id": "2om4NiUW4WjM",
        "outputId": "da483e13-a974-448d-be4c-720fc3e2cfca"
      },
      "execution_count": null,
      "outputs": [
        {
          "output_type": "execute_result",
          "data": {
            "text/plain": [
              "['一',\n",
              " '一下',\n",
              " '一些',\n",
              " '一切',\n",
              " '一则',\n",
              " '一天',\n",
              " '一定',\n",
              " '一方面',\n",
              " '一旦',\n",
              " '一时',\n",
              " '一来',\n",
              " '一样',\n",
              " '一次',\n",
              " '一片',\n",
              " '一直',\n",
              " '一致',\n",
              " '一般',\n",
              " '一起',\n",
              " '一边',\n",
              " '一面',\n",
              " '万一',\n",
              " '上下',\n",
              " '上升',\n",
              " '上去',\n",
              " '上来',\n",
              " '上述',\n",
              " '上面',\n",
              " '下列',\n",
              " '下去',\n",
              " '下来',\n",
              " '下面',\n",
              " '不一',\n",
              " '不久',\n",
              " '不仅',\n",
              " '不会',\n",
              " '不但',\n",
              " '不光',\n",
              " '不单',\n",
              " '不变',\n",
              " '不只',\n",
              " '不可',\n",
              " '不同',\n",
              " '不够',\n",
              " '不如',\n",
              " '不得',\n",
              " '不怕',\n",
              " '不惟',\n",
              " '不成',\n",
              " '不拘',\n",
              " '不敢',\n",
              " '不断',\n",
              " '不是',\n",
              " '不比',\n",
              " '不然',\n",
              " '不特',\n",
              " '不独',\n",
              " '不管',\n",
              " '不能',\n",
              " '不要',\n",
              " '不论',\n",
              " '不足',\n",
              " '不过',\n",
              " '不问',\n",
              " '与',\n",
              " '与其',\n",
              " '与否',\n",
              " '与此同时',\n",
              " '专门',\n",
              " '且',\n",
              " '两者',\n",
              " '严格',\n",
              " '严重',\n",
              " '个',\n",
              " '个人',\n",
              " '个别',\n",
              " '中小',\n",
              " '中间',\n",
              " '丰富',\n",
              " '临',\n",
              " '为',\n",
              " '为主',\n",
              " '为了',\n",
              " '为什么',\n",
              " '为什麽',\n",
              " '为何',\n",
              " '为着',\n",
              " '主张',\n",
              " '主要',\n",
              " '举行',\n",
              " '乃',\n",
              " '乃至',\n",
              " '么',\n",
              " '之',\n",
              " '之一',\n",
              " '之前',\n",
              " '之后',\n",
              " '之後',\n",
              " '之所以',\n",
              " '之类',\n",
              " '乌乎',\n",
              " '乎',\n",
              " '乘',\n",
              " '也',\n",
              " '也好',\n",
              " '也是',\n",
              " '也罢',\n",
              " '了',\n",
              " '了解',\n",
              " '争取',\n",
              " '于',\n",
              " '于是',\n",
              " '于是乎',\n",
              " '云云',\n",
              " '互相',\n",
              " '产生',\n",
              " '人们',\n",
              " '人家',\n",
              " '什么',\n",
              " '什么样',\n",
              " '什麽',\n",
              " '今后',\n",
              " '今天',\n",
              " '今年',\n",
              " '今後',\n",
              " '仍然',\n",
              " '从',\n",
              " '从事',\n",
              " '从而',\n",
              " '他',\n",
              " '他人',\n",
              " '他们',\n",
              " '他的',\n",
              " '代替',\n",
              " '以',\n",
              " '以上',\n",
              " '以下',\n",
              " '以为',\n",
              " '以便',\n",
              " '以免',\n",
              " '以前',\n",
              " '以及',\n",
              " '以后',\n",
              " '以外',\n",
              " '以後',\n",
              " '以来',\n",
              " '以至',\n",
              " '以至于',\n",
              " '以致',\n",
              " '们',\n",
              " '任',\n",
              " '任何',\n",
              " '任凭',\n",
              " '任务',\n",
              " '企图',\n",
              " '伟大',\n",
              " '似乎',\n",
              " '似的',\n",
              " '但',\n",
              " '但是',\n",
              " '何',\n",
              " '何况',\n",
              " '何处',\n",
              " '何时',\n",
              " '作为',\n",
              " '你',\n",
              " '你们',\n",
              " '你的',\n",
              " '使得',\n",
              " '使用',\n",
              " '例如',\n",
              " '依',\n",
              " '依照',\n",
              " '依靠',\n",
              " '促进',\n",
              " '保持',\n",
              " '俺',\n",
              " '俺们',\n",
              " '倘',\n",
              " '倘使',\n",
              " '倘或',\n",
              " '倘然',\n",
              " '倘若',\n",
              " '假使',\n",
              " '假如',\n",
              " '假若',\n",
              " '做到',\n",
              " '像',\n",
              " '允许',\n",
              " '充分',\n",
              " '先后',\n",
              " '先後',\n",
              " '先生',\n",
              " '全部',\n",
              " '全面',\n",
              " '兮',\n",
              " '共同',\n",
              " '关于',\n",
              " '其',\n",
              " '其一',\n",
              " '其中',\n",
              " '其二',\n",
              " '其他',\n",
              " '其余',\n",
              " '其它',\n",
              " '其实',\n",
              " '其次',\n",
              " '具体',\n",
              " '具体地说',\n",
              " '具体说来',\n",
              " '具有',\n",
              " '再者',\n",
              " '再说',\n",
              " '冒',\n",
              " '冲',\n",
              " '决定',\n",
              " '况且',\n",
              " '准备',\n",
              " '几',\n",
              " '几乎',\n",
              " '几时',\n",
              " '凭',\n",
              " '凭借',\n",
              " '出去',\n",
              " '出来',\n",
              " '出现',\n",
              " '分别',\n",
              " '则',\n",
              " '别',\n",
              " '别的',\n",
              " '别说',\n",
              " '到',\n",
              " '前后',\n",
              " '前者',\n",
              " '前进',\n",
              " '前面',\n",
              " '加之',\n",
              " '加以',\n",
              " '加入',\n",
              " '加强',\n",
              " '十分',\n",
              " '即',\n",
              " '即令',\n",
              " '即使',\n",
              " '即便',\n",
              " '即或',\n",
              " '即若',\n",
              " '却不',\n",
              " '原来',\n",
              " '又',\n",
              " '及',\n",
              " '及其',\n",
              " '及时',\n",
              " '及至',\n",
              " '双方',\n",
              " '反之',\n",
              " '反应',\n",
              " '反映',\n",
              " '反过来',\n",
              " '反过来说',\n",
              " '取得',\n",
              " '受到',\n",
              " '变成',\n",
              " '另',\n",
              " '另一方面',\n",
              " '另外',\n",
              " '只是',\n",
              " '只有',\n",
              " '只要',\n",
              " '只限',\n",
              " '叫',\n",
              " '叫做',\n",
              " '召开',\n",
              " '叮咚',\n",
              " '可',\n",
              " '可以',\n",
              " '可是',\n",
              " '可能',\n",
              " '可见',\n",
              " '各',\n",
              " '各个',\n",
              " '各人',\n",
              " '各位',\n",
              " '各地',\n",
              " '各种',\n",
              " '各级',\n",
              " '各自',\n",
              " '合理',\n",
              " '同',\n",
              " '同一',\n",
              " '同时',\n",
              " '同样',\n",
              " '后来',\n",
              " '后面',\n",
              " '向',\n",
              " '向着',\n",
              " '吓',\n",
              " '吗',\n",
              " '否则',\n",
              " '吧',\n",
              " '吧哒',\n",
              " '吱',\n",
              " '呀',\n",
              " '呃',\n",
              " '呕',\n",
              " '呗',\n",
              " '呜',\n",
              " '呜呼',\n",
              " '呢',\n",
              " '周围',\n",
              " '呵',\n",
              " '呸',\n",
              " '呼哧',\n",
              " '咋',\n",
              " '和',\n",
              " '咚',\n",
              " '咦',\n",
              " '咱',\n",
              " '咱们',\n",
              " '咳',\n",
              " '哇',\n",
              " '哈',\n",
              " '哈哈',\n",
              " '哉',\n",
              " '哎',\n",
              " '哎呀',\n",
              " '哎哟',\n",
              " '哗',\n",
              " '哟',\n",
              " '哦',\n",
              " '哩',\n",
              " '哪',\n",
              " '哪个',\n",
              " '哪些',\n",
              " '哪儿',\n",
              " '哪天',\n",
              " '哪年',\n",
              " '哪怕',\n",
              " '哪样',\n",
              " '哪边',\n",
              " '哪里',\n",
              " '哼',\n",
              " '哼唷',\n",
              " '唉',\n",
              " '啊',\n",
              " '啐',\n",
              " '啥',\n",
              " '啦',\n",
              " '啪达',\n",
              " '喂',\n",
              " '喏',\n",
              " '喔唷',\n",
              " '嗡嗡',\n",
              " '嗬',\n",
              " '嗯',\n",
              " '嗳',\n",
              " '嘎',\n",
              " '嘎登',\n",
              " '嘘',\n",
              " '嘛',\n",
              " '嘻',\n",
              " '嘿',\n",
              " '因',\n",
              " '因为',\n",
              " '因此',\n",
              " '因而',\n",
              " '固然',\n",
              " '在',\n",
              " '在下',\n",
              " '地',\n",
              " '坚决',\n",
              " '坚持',\n",
              " '基本',\n",
              " '处理',\n",
              " '复杂',\n",
              " '多',\n",
              " '多少',\n",
              " '多数',\n",
              " '多次',\n",
              " '大力',\n",
              " '大多数',\n",
              " '大大',\n",
              " '大家',\n",
              " '大批',\n",
              " '大约',\n",
              " '大量',\n",
              " '失去',\n",
              " '她',\n",
              " '她们',\n",
              " '她的',\n",
              " '好的',\n",
              " '好象',\n",
              " '如',\n",
              " '如上所述',\n",
              " '如下',\n",
              " '如何',\n",
              " '如其',\n",
              " '如果',\n",
              " '如此',\n",
              " '如若',\n",
              " '存在',\n",
              " '宁',\n",
              " '宁可',\n",
              " '宁愿',\n",
              " '宁肯',\n",
              " '它',\n",
              " '它们',\n",
              " '它们的',\n",
              " '它的',\n",
              " '安全',\n",
              " '完全',\n",
              " '完成',\n",
              " '实现',\n",
              " '实际',\n",
              " '宣布',\n",
              " '容易',\n",
              " '密切',\n",
              " '对',\n",
              " '对于',\n",
              " '对应',\n",
              " '将',\n",
              " '少数',\n",
              " '尔后',\n",
              " '尚且',\n",
              " '尤其',\n",
              " '就',\n",
              " '就是',\n",
              " '就是说',\n",
              " '尽',\n",
              " '尽管',\n",
              " '属于',\n",
              " '岂但',\n",
              " '左右',\n",
              " '巨大',\n",
              " '巩固',\n",
              " '己',\n",
              " '已经',\n",
              " '帮助',\n",
              " '常常',\n",
              " '并',\n",
              " '并不',\n",
              " '并不是',\n",
              " '并且',\n",
              " '并没有',\n",
              " '广大',\n",
              " '广泛',\n",
              " '应当',\n",
              " '应用',\n",
              " '应该',\n",
              " '开外',\n",
              " '开始',\n",
              " '开展',\n",
              " '引起',\n",
              " '强烈',\n",
              " '强调',\n",
              " '归',\n",
              " '当',\n",
              " '当前',\n",
              " '当时',\n",
              " '当然',\n",
              " '当着',\n",
              " '形成',\n",
              " '彻底',\n",
              " '彼',\n",
              " '彼此',\n",
              " '往',\n",
              " '往往',\n",
              " '待',\n",
              " '後来',\n",
              " '後面',\n",
              " '得',\n",
              " '得出',\n",
              " '得到',\n",
              " '心里',\n",
              " '必然',\n",
              " '必要',\n",
              " '必须',\n",
              " '怎',\n",
              " '怎么',\n",
              " '怎么办',\n",
              " '怎么样',\n",
              " '怎样',\n",
              " '怎麽',\n",
              " '总之',\n",
              " '总是',\n",
              " '总的来看',\n",
              " '总的来说',\n",
              " '总的说来',\n",
              " '总结',\n",
              " '总而言之',\n",
              " '恰恰相反',\n",
              " '您',\n",
              " '意思',\n",
              " '愿意',\n",
              " '慢说',\n",
              " '成为',\n",
              " '我',\n",
              " '我们',\n",
              " '我的',\n",
              " '或',\n",
              " '或是',\n",
              " '或者',\n",
              " '战斗',\n",
              " '所',\n",
              " '所以',\n",
              " '所有',\n",
              " '所谓',\n",
              " '打',\n",
              " '扩大',\n",
              " '把',\n",
              " '抑或',\n",
              " '拿',\n",
              " '按',\n",
              " '按照',\n",
              " '换句话说',\n",
              " '换言之',\n",
              " '据',\n",
              " '掌握',\n",
              " '接着',\n",
              " '接著',\n",
              " '故',\n",
              " '故此',\n",
              " '整个',\n",
              " '方便',\n",
              " '方面',\n",
              " '旁人',\n",
              " '无宁',\n",
              " '无法',\n",
              " '无论',\n",
              " '既',\n",
              " '既是',\n",
              " '既然',\n",
              " '时候',\n",
              " '明显',\n",
              " '明确',\n",
              " '是',\n",
              " '是否',\n",
              " '是的',\n",
              " '显然',\n",
              " '显著',\n",
              " '普通',\n",
              " '普遍',\n",
              " '更加',\n",
              " '曾经',\n",
              " '替',\n",
              " '最后',\n",
              " '最大',\n",
              " '最好',\n",
              " '最後',\n",
              " '最近',\n",
              " '最高',\n",
              " '有',\n",
              " '有些',\n",
              " '有关',\n",
              " '有利',\n",
              " '有力',\n",
              " '有所',\n",
              " '有效',\n",
              " '有时',\n",
              " '有点',\n",
              " '有的',\n",
              " '有着',\n",
              " '有著',\n",
              " '望',\n",
              " '朝',\n",
              " '朝着',\n",
              " '本',\n",
              " '本着',\n",
              " '来',\n",
              " '来着',\n",
              " '极了',\n",
              " '构成',\n",
              " '果然',\n",
              " '果真',\n",
              " '某',\n",
              " '某个',\n",
              " '某些',\n",
              " '根据',\n",
              " '根本',\n",
              " '欢迎',\n",
              " '正在',\n",
              " '正如',\n",
              " '正常',\n",
              " '此',\n",
              " '此外',\n",
              " '此时',\n",
              " '此间',\n",
              " '毋宁',\n",
              " '每',\n",
              " '每个',\n",
              " '每天',\n",
              " '每年',\n",
              " '每当',\n",
              " '比',\n",
              " '比如',\n",
              " '比方',\n",
              " '比较',\n",
              " '毫不',\n",
              " '没有',\n",
              " '沿',\n",
              " '沿着',\n",
              " '注意',\n",
              " '深入',\n",
              " '清楚',\n",
              " '满足',\n",
              " '漫说',\n",
              " '焉',\n",
              " '然则',\n",
              " '然后',\n",
              " '然後',\n",
              " '然而',\n",
              " '照',\n",
              " '照着',\n",
              " '特别是',\n",
              " '特殊',\n",
              " '特点',\n",
              " '现代',\n",
              " '现在',\n",
              " '甚么',\n",
              " '甚而',\n",
              " '甚至',\n",
              " '用',\n",
              " '由',\n",
              " '由于',\n",
              " '由此可见',\n",
              " '的',\n",
              " '的话',\n",
              " '目前',\n",
              " '直到',\n",
              " '直接',\n",
              " '相似',\n",
              " '相信',\n",
              " '相反',\n",
              " '相同',\n",
              " '相对',\n",
              " '相对而言',\n",
              " '相应',\n",
              " '相当',\n",
              " '相等',\n",
              " '省得',\n",
              " '看出',\n",
              " '看到',\n",
              " '看来',\n",
              " '看看',\n",
              " '看见',\n",
              " '真是',\n",
              " '真正',\n",
              " '着',\n",
              " '着呢',\n",
              " '矣',\n",
              " '知道',\n",
              " '确定',\n",
              " '离',\n",
              " '积极',\n",
              " '移动',\n",
              " '突出',\n",
              " '突然',\n",
              " '立即',\n",
              " '第',\n",
              " '等',\n",
              " '等等',\n",
              " '管',\n",
              " '紧接着',\n",
              " '纵',\n",
              " '纵令',\n",
              " '纵使',\n",
              " '纵然',\n",
              " '练习',\n",
              " '组成',\n",
              " '经',\n",
              " '经常',\n",
              " '经过',\n",
              " '结合',\n",
              " '结果',\n",
              " '给',\n",
              " '绝对',\n",
              " '继续',\n",
              " '继而',\n",
              " '维持',\n",
              " '综上所述',\n",
              " '罢了',\n",
              " '考虑',\n",
              " '者',\n",
              " '而',\n",
              " '而且',\n",
              " '而况',\n",
              " '而外',\n",
              " '而已',\n",
              " '而是',\n",
              " '而言',\n",
              " '联系',\n",
              " '能',\n",
              " '能否',\n",
              " '能够',\n",
              " '腾',\n",
              " '自',\n",
              " '自个儿',\n",
              " '自从',\n",
              " '自各儿',\n",
              " '自家',\n",
              " '自己',\n",
              " '自身',\n",
              " '至',\n",
              " '至于',\n",
              " '良好',\n",
              " '若',\n",
              " '若是',\n",
              " '若非',\n",
              " '范围',\n",
              " '莫若',\n",
              " '获得',\n",
              " '虽',\n",
              " '虽则',\n",
              " '虽然',\n",
              " '虽说',\n",
              " '行为',\n",
              " '行动',\n",
              " '表明',\n",
              " '表示',\n",
              " '被',\n",
              " '要',\n",
              " '要不',\n",
              " '要不是',\n",
              " '要不然',\n",
              " '要么',\n",
              " '要是',\n",
              " '要求',\n",
              " '规定',\n",
              " '觉得',\n",
              " '认为',\n",
              " '认真',\n",
              " '认识',\n",
              " '让',\n",
              " '许多',\n",
              " '论',\n",
              " '设使',\n",
              " '设若',\n",
              " '该',\n",
              " '说明',\n",
              " '诸位',\n",
              " '谁',\n",
              " '谁知',\n",
              " '赶',\n",
              " '起',\n",
              " '起来',\n",
              " '起见',\n",
              " '趁',\n",
              " '趁着',\n",
              " '越是',\n",
              " '跟',\n",
              " '转动',\n",
              " '转变',\n",
              " '转贴',\n",
              " '较',\n",
              " '较之',\n",
              " '边',\n",
              " '达到',\n",
              " '迅速',\n",
              " '过',\n",
              " '过去',\n",
              " '过来',\n",
              " '运用',\n",
              " '还是',\n",
              " '还有',\n",
              " '这',\n",
              " '这个',\n",
              " '这么',\n",
              " '这么些',\n",
              " '这么样',\n",
              " '这么点儿',\n",
              " '这些',\n",
              " '这会儿',\n",
              " '这儿',\n",
              " '这就是说',\n",
              " '这时',\n",
              " '这样',\n",
              " '这点',\n",
              " '这种',\n",
              " '这边',\n",
              " '这里',\n",
              " '这麽',\n",
              " '进入',\n",
              " '进步',\n",
              " '进而',\n",
              " '进行',\n",
              " '连',\n",
              " '连同',\n",
              " '适应',\n",
              " '适当',\n",
              " '适用',\n",
              " '逐步',\n",
              " '逐渐',\n",
              " '通常',\n",
              " '通过',\n",
              " '造成',\n",
              " '遇到',\n",
              " '遭到',\n",
              " '避免',\n",
              " '那',\n",
              " '那个',\n",
              " '那么',\n",
              " '那么些',\n",
              " '那么样',\n",
              " '那些',\n",
              " '那会儿',\n",
              " '那儿',\n",
              " '那时',\n",
              " '那样',\n",
              " '那边',\n",
              " '那里',\n",
              " '那麽',\n",
              " '部分',\n",
              " '鄙人',\n",
              " '采取',\n",
              " '里面',\n",
              " '重大',\n",
              " '重新',\n",
              " '重要',\n",
              " '鉴于',\n",
              " '问题',\n",
              " '防止',\n",
              " '阿',\n",
              " '附近',\n",
              " '限制',\n",
              " '除',\n",
              " '除了',\n",
              " '除此之外',\n",
              " '除非',\n",
              " '随',\n",
              " '随着',\n",
              " '随著',\n",
              " '集中',\n",
              " '需要',\n",
              " '非但',\n",
              " '非常',\n",
              " '非徒',\n",
              " '靠',\n",
              " '顺',\n",
              " '顺着',\n",
              " '首先',\n",
              " '高兴',\n",
              " '是不是']"
            ]
          },
          "metadata": {},
          "execution_count": 64
        }
      ]
    },
    {
      "cell_type": "markdown",
      "source": [
        "# POS(PART OF SPEECH)"
      ],
      "metadata": {
        "id": "yr34SANU5Pu1"
      }
    },
    {
      "cell_type": "code",
      "source": [
        "sent = 'Elon Musk arrived at the Staples Center in Los Angeles, California.'\n",
        "sent"
      ],
      "metadata": {
        "colab": {
          "base_uri": "https://localhost:8080/",
          "height": 36
        },
        "id": "qBiNx3oC3dDF",
        "outputId": "cef478b3-5250-46ff-9996-9c1f3fb8e5eb"
      },
      "execution_count": null,
      "outputs": [
        {
          "output_type": "execute_result",
          "data": {
            "text/plain": [
              "'Elon Musk arrived at the Staples Center in Los Angeles, California.'"
            ],
            "application/vnd.google.colaboratory.intrinsic+json": {
              "type": "string"
            }
          },
          "metadata": {},
          "execution_count": 66
        }
      ]
    },
    {
      "cell_type": "code",
      "source": [
        "import nltk\n",
        "nltk.download('averaged_perceptron_tagger')"
      ],
      "metadata": {
        "colab": {
          "base_uri": "https://localhost:8080/"
        },
        "id": "Q_XrAy0A6XDO",
        "outputId": "6f840921-47ae-40e2-c7de-0f04798c6d2a"
      },
      "execution_count": null,
      "outputs": [
        {
          "output_type": "stream",
          "name": "stderr",
          "text": [
            "[nltk_data] Downloading package averaged_perceptron_tagger to\n",
            "[nltk_data]     /root/nltk_data...\n",
            "[nltk_data]   Unzipping taggers/averaged_perceptron_tagger.zip.\n"
          ]
        },
        {
          "output_type": "execute_result",
          "data": {
            "text/plain": [
              "True"
            ]
          },
          "metadata": {},
          "execution_count": 69
        }
      ]
    },
    {
      "cell_type": "code",
      "source": [
        "sent_tokens = word_tokenize(sent)\n",
        "sent_tokens"
      ],
      "metadata": {
        "colab": {
          "base_uri": "https://localhost:8080/"
        },
        "id": "v3l--jBi1GMG",
        "outputId": "44033bfd-6cba-4aff-f4aa-731b2aa66903"
      },
      "execution_count": null,
      "outputs": [
        {
          "output_type": "execute_result",
          "data": {
            "text/plain": [
              "['Elon',\n",
              " 'Musk',\n",
              " 'arrived',\n",
              " 'at',\n",
              " 'the',\n",
              " 'Staples',\n",
              " 'Center',\n",
              " 'in',\n",
              " 'Los',\n",
              " 'Angeles',\n",
              " ',',\n",
              " 'California',\n",
              " '.']"
            ]
          },
          "metadata": {},
          "execution_count": 67
        }
      ]
    },
    {
      "cell_type": "code",
      "source": [
        "for token in sent_tokens:\n",
        "  print(nltk.pos_tag([token]))"
      ],
      "metadata": {
        "colab": {
          "base_uri": "https://localhost:8080/"
        },
        "id": "1EjFp-7Y1GOy",
        "outputId": "3e6732de-0446-4a3f-a15b-7fe3d5db1519"
      },
      "execution_count": null,
      "outputs": [
        {
          "output_type": "stream",
          "name": "stdout",
          "text": [
            "[('Elon', 'NN')]\n",
            "[('Musk', 'NN')]\n",
            "[('arrived', 'VBN')]\n",
            "[('at', 'IN')]\n",
            "[('the', 'DT')]\n",
            "[('Staples', 'NNS')]\n",
            "[('Center', 'NNP')]\n",
            "[('in', 'IN')]\n",
            "[('Los', 'NNP')]\n",
            "[('Angeles', 'NNP')]\n",
            "[(',', ',')]\n",
            "[('California', 'NNP')]\n",
            "[('.', '.')]\n"
          ]
        }
      ]
    },
    {
      "cell_type": "markdown",
      "source": [],
      "metadata": {
        "id": "0HagBDGH7WY0"
      }
    },
    {
      "cell_type": "markdown",
      "source": [
        "# NER (NAMED ENTITY RECOGNITION)"
      ],
      "metadata": {
        "id": "dNv_orMI7-aQ"
      }
    },
    {
      "cell_type": "code",
      "source": [
        "text = 'Elon Musk arrived at the Staples Center in Los Angeles, California.'\n",
        "text"
      ],
      "metadata": {
        "colab": {
          "base_uri": "https://localhost:8080/",
          "height": 36
        },
        "id": "pqO5cQ8Gsdar",
        "outputId": "80e9ba15-4d6d-4acd-ccd2-553ff3917319"
      },
      "execution_count": null,
      "outputs": [
        {
          "output_type": "execute_result",
          "data": {
            "text/plain": [
              "'Elon Musk arrived at the Staples Center in Los Angeles, California.'"
            ],
            "application/vnd.google.colaboratory.intrinsic+json": {
              "type": "string"
            }
          },
          "metadata": {},
          "execution_count": 71
        }
      ]
    },
    {
      "cell_type": "code",
      "source": [
        "from nltk import ne_chunk"
      ],
      "metadata": {
        "id": "GZbomsx97Vyo"
      },
      "execution_count": null,
      "outputs": []
    },
    {
      "cell_type": "code",
      "source": [
        "ner_token = word_tokenize(text)\n",
        "ner_token"
      ],
      "metadata": {
        "colab": {
          "base_uri": "https://localhost:8080/"
        },
        "id": "7LcLBEYx6vYk",
        "outputId": "0336d626-c555-4b2a-ed91-8592281388f3"
      },
      "execution_count": null,
      "outputs": [
        {
          "output_type": "execute_result",
          "data": {
            "text/plain": [
              "['Elon',\n",
              " 'Musk',\n",
              " 'arrived',\n",
              " 'at',\n",
              " 'the',\n",
              " 'Staples',\n",
              " 'Center',\n",
              " 'in',\n",
              " 'Los',\n",
              " 'Angeles',\n",
              " ',',\n",
              " 'California',\n",
              " '.']"
            ]
          },
          "metadata": {},
          "execution_count": 73
        }
      ]
    },
    {
      "cell_type": "code",
      "source": [
        "ner_tags = nltk.pos_tag(ner_token)\n",
        "ner_tags"
      ],
      "metadata": {
        "colab": {
          "base_uri": "https://localhost:8080/"
        },
        "id": "ayLdq2A16vUc",
        "outputId": "05be3cb1-997a-4352-bce8-e92c348d06c8"
      },
      "execution_count": null,
      "outputs": [
        {
          "output_type": "execute_result",
          "data": {
            "text/plain": [
              "[('Elon', 'NNP'),\n",
              " ('Musk', 'NNP'),\n",
              " ('arrived', 'VBD'),\n",
              " ('at', 'IN'),\n",
              " ('the', 'DT'),\n",
              " ('Staples', 'NNP'),\n",
              " ('Center', 'NNP'),\n",
              " ('in', 'IN'),\n",
              " ('Los', 'NNP'),\n",
              " ('Angeles', 'NNP'),\n",
              " (',', ','),\n",
              " ('California', 'NNP'),\n",
              " ('.', '.')]"
            ]
          },
          "metadata": {},
          "execution_count": 84
        }
      ]
    },
    {
      "cell_type": "code",
      "source": [
        "import nltk\n",
        "nltk.download('words')\n",
        "nltk.download('maxent_ne_chunker')"
      ],
      "metadata": {
        "colab": {
          "base_uri": "https://localhost:8080/"
        },
        "id": "8fAcXPNk9Dz7",
        "outputId": "2e2b87e9-eb12-4b00-bae8-7f5a507c8f7e"
      },
      "execution_count": null,
      "outputs": [
        {
          "output_type": "stream",
          "name": "stderr",
          "text": [
            "[nltk_data] Downloading package words to /root/nltk_data...\n",
            "[nltk_data]   Package words is already up-to-date!\n"
          ]
        },
        {
          "output_type": "execute_result",
          "data": {
            "text/plain": [
              "True"
            ]
          },
          "metadata": {},
          "execution_count": 82
        }
      ]
    },
    {
      "cell_type": "code",
      "source": [
        "!pip install svgling"
      ],
      "metadata": {
        "colab": {
          "base_uri": "https://localhost:8080/"
        },
        "id": "ga10SLZ99dqq",
        "outputId": "e915daef-7931-42a9-f5b3-eb332a430bfe"
      },
      "execution_count": null,
      "outputs": [
        {
          "output_type": "stream",
          "name": "stdout",
          "text": [
            "Collecting svgling\n",
            "  Downloading svgling-0.4.0-py3-none-any.whl.metadata (7.0 kB)\n",
            "Collecting svgwrite (from svgling)\n",
            "  Downloading svgwrite-1.4.3-py3-none-any.whl.metadata (8.8 kB)\n",
            "Downloading svgling-0.4.0-py3-none-any.whl (23 kB)\n",
            "Downloading svgwrite-1.4.3-py3-none-any.whl (67 kB)\n",
            "\u001b[2K   \u001b[90m━━━━━━━━━━━━━━━━━━━━━━━━━━━━━━━━━━━━━━━━\u001b[0m \u001b[32m67.1/67.1 kB\u001b[0m \u001b[31m2.7 MB/s\u001b[0m eta \u001b[36m0:00:00\u001b[0m\n",
            "\u001b[?25hInstalling collected packages: svgwrite, svgling\n",
            "Successfully installed svgling-0.4.0 svgwrite-1.4.3\n"
          ]
        }
      ]
    },
    {
      "cell_type": "code",
      "source": [
        "ner = ne_chunk(ner_tags)\n",
        "ner"
      ],
      "metadata": {
        "colab": {
          "base_uri": "https://localhost:8080/",
          "height": 189
        },
        "id": "L0q3cs728vrc",
        "outputId": "fe5fb14a-2c39-4715-b193-0fb9f8d83ecb"
      },
      "execution_count": null,
      "outputs": [
        {
          "output_type": "execute_result",
          "data": {
            "text/plain": [
              "Tree('S', [Tree('PERSON', [('Elon', 'NNP')]), Tree('PERSON', [('Musk', 'NNP')]), ('arrived', 'VBD'), ('at', 'IN'), ('the', 'DT'), Tree('FACILITY', [('Staples', 'NNP'), ('Center', 'NNP')]), ('in', 'IN'), Tree('GPE', [('Los', 'NNP'), ('Angeles', 'NNP')]), (',', ','), Tree('GPE', [('California', 'NNP')]), ('.', '.')])"
            ],
            "image/svg+xml": "<svg baseProfile=\"full\" height=\"168px\" preserveAspectRatio=\"xMidYMid meet\" style=\"font-family: times, serif; font-weight: normal; font-style: normal; font-size: 16px;\" version=\"1.1\" viewBox=\"0,0,696.0,168.0\" width=\"696px\" xmlns=\"http://www.w3.org/2000/svg\" xmlns:ev=\"http://www.w3.org/2001/xml-events\" xmlns:xlink=\"http://www.w3.org/1999/xlink\"><defs /><svg width=\"100%\" x=\"0\" y=\"0px\"><defs /><text text-anchor=\"middle\" x=\"50%\" y=\"16px\">S</text></svg><svg width=\"9.1954%\" x=\"0%\" y=\"48px\"><defs /><svg width=\"100%\" x=\"0\" y=\"0px\"><defs /><text text-anchor=\"middle\" x=\"50%\" y=\"16px\">PERSON</text></svg><svg width=\"100%\" x=\"0%\" y=\"48px\"><defs /><svg width=\"100%\" x=\"0\" y=\"0px\"><defs /><text text-anchor=\"middle\" x=\"50%\" y=\"16px\">Elon</text></svg><svg width=\"100%\" x=\"0%\" y=\"48px\"><defs /><svg width=\"100%\" x=\"0\" y=\"0px\"><defs /><text text-anchor=\"middle\" x=\"50%\" y=\"16px\">NNP</text></svg></svg><line stroke=\"black\" x1=\"50%\" x2=\"50%\" y1=\"19.2px\" y2=\"48px\" /></svg><line stroke=\"black\" x1=\"50%\" x2=\"50%\" y1=\"19.2px\" y2=\"48px\" /></svg><line stroke=\"black\" x1=\"50%\" x2=\"4.5977%\" y1=\"19.2px\" y2=\"48px\" /><svg width=\"9.1954%\" x=\"9.1954%\" y=\"48px\"><defs /><svg width=\"100%\" x=\"0\" y=\"0px\"><defs /><text text-anchor=\"middle\" x=\"50%\" y=\"16px\">PERSON</text></svg><svg width=\"100%\" x=\"0%\" y=\"48px\"><defs /><svg width=\"100%\" x=\"0\" y=\"0px\"><defs /><text text-anchor=\"middle\" x=\"50%\" y=\"16px\">Musk</text></svg><svg width=\"100%\" x=\"0%\" y=\"48px\"><defs /><svg width=\"100%\" x=\"0\" y=\"0px\"><defs /><text text-anchor=\"middle\" x=\"50%\" y=\"16px\">NNP</text></svg></svg><line stroke=\"black\" x1=\"50%\" x2=\"50%\" y1=\"19.2px\" y2=\"48px\" /></svg><line stroke=\"black\" x1=\"50%\" x2=\"50%\" y1=\"19.2px\" y2=\"48px\" /></svg><line stroke=\"black\" x1=\"50%\" x2=\"13.7931%\" y1=\"19.2px\" y2=\"48px\" /><svg width=\"10.3448%\" x=\"18.3908%\" y=\"48px\"><defs /><svg width=\"100%\" x=\"0\" y=\"0px\"><defs /><text text-anchor=\"middle\" x=\"50%\" y=\"16px\">arrived</text></svg><svg width=\"100%\" x=\"0%\" y=\"48px\"><defs /><svg width=\"100%\" x=\"0\" y=\"0px\"><defs /><text text-anchor=\"middle\" x=\"50%\" y=\"16px\">VBD</text></svg></svg><line stroke=\"black\" x1=\"50%\" x2=\"50%\" y1=\"19.2px\" y2=\"48px\" /></svg><line stroke=\"black\" x1=\"50%\" x2=\"23.5632%\" y1=\"19.2px\" y2=\"48px\" /><svg width=\"4.5977%\" x=\"28.7356%\" y=\"48px\"><defs /><svg width=\"100%\" x=\"0\" y=\"0px\"><defs /><text text-anchor=\"middle\" x=\"50%\" y=\"16px\">at</text></svg><svg width=\"100%\" x=\"0%\" y=\"48px\"><defs /><svg width=\"100%\" x=\"0\" y=\"0px\"><defs /><text text-anchor=\"middle\" x=\"50%\" y=\"16px\">IN</text></svg></svg><line stroke=\"black\" x1=\"50%\" x2=\"50%\" y1=\"19.2px\" y2=\"48px\" /></svg><line stroke=\"black\" x1=\"50%\" x2=\"31.0345%\" y1=\"19.2px\" y2=\"48px\" /><svg width=\"5.74713%\" x=\"33.3333%\" y=\"48px\"><defs /><svg width=\"100%\" x=\"0\" y=\"0px\"><defs /><text text-anchor=\"middle\" x=\"50%\" y=\"16px\">the</text></svg><svg width=\"100%\" x=\"0%\" y=\"48px\"><defs /><svg width=\"100%\" x=\"0\" y=\"0px\"><defs /><text text-anchor=\"middle\" x=\"50%\" y=\"16px\">DT</text></svg></svg><line stroke=\"black\" x1=\"50%\" x2=\"50%\" y1=\"19.2px\" y2=\"48px\" /></svg><line stroke=\"black\" x1=\"50%\" x2=\"36.2069%\" y1=\"19.2px\" y2=\"48px\" /><svg width=\"19.5402%\" x=\"39.0805%\" y=\"48px\"><defs /><svg width=\"100%\" x=\"0\" y=\"0px\"><defs /><text text-anchor=\"middle\" x=\"50%\" y=\"16px\">FACILITY</text></svg><svg width=\"52.9412%\" x=\"0%\" y=\"48px\"><defs /><svg width=\"100%\" x=\"0\" y=\"0px\"><defs /><text text-anchor=\"middle\" x=\"50%\" y=\"16px\">Staples</text></svg><svg width=\"100%\" x=\"0%\" y=\"48px\"><defs /><svg width=\"100%\" x=\"0\" y=\"0px\"><defs /><text text-anchor=\"middle\" x=\"50%\" y=\"16px\">NNP</text></svg></svg><line stroke=\"black\" x1=\"50%\" x2=\"50%\" y1=\"19.2px\" y2=\"48px\" /></svg><line stroke=\"black\" x1=\"50%\" x2=\"26.4706%\" y1=\"19.2px\" y2=\"48px\" /><svg width=\"47.0588%\" x=\"52.9412%\" y=\"48px\"><defs /><svg width=\"100%\" x=\"0\" y=\"0px\"><defs /><text text-anchor=\"middle\" x=\"50%\" y=\"16px\">Center</text></svg><svg width=\"100%\" x=\"0%\" y=\"48px\"><defs /><svg width=\"100%\" x=\"0\" y=\"0px\"><defs /><text text-anchor=\"middle\" x=\"50%\" y=\"16px\">NNP</text></svg></svg><line stroke=\"black\" x1=\"50%\" x2=\"50%\" y1=\"19.2px\" y2=\"48px\" /></svg><line stroke=\"black\" x1=\"50%\" x2=\"76.4706%\" y1=\"19.2px\" y2=\"48px\" /></svg><line stroke=\"black\" x1=\"50%\" x2=\"48.8506%\" y1=\"19.2px\" y2=\"48px\" /><svg width=\"4.5977%\" x=\"58.6207%\" y=\"48px\"><defs /><svg width=\"100%\" x=\"0\" y=\"0px\"><defs /><text text-anchor=\"middle\" x=\"50%\" y=\"16px\">in</text></svg><svg width=\"100%\" x=\"0%\" y=\"48px\"><defs /><svg width=\"100%\" x=\"0\" y=\"0px\"><defs /><text text-anchor=\"middle\" x=\"50%\" y=\"16px\">IN</text></svg></svg><line stroke=\"black\" x1=\"50%\" x2=\"50%\" y1=\"19.2px\" y2=\"48px\" /></svg><line stroke=\"black\" x1=\"50%\" x2=\"60.9195%\" y1=\"19.2px\" y2=\"48px\" /><svg width=\"16.092%\" x=\"63.2184%\" y=\"48px\"><defs /><svg width=\"100%\" x=\"0\" y=\"0px\"><defs /><text text-anchor=\"middle\" x=\"50%\" y=\"16px\">GPE</text></svg><svg width=\"35.7143%\" x=\"0%\" y=\"48px\"><defs /><svg width=\"100%\" x=\"0\" y=\"0px\"><defs /><text text-anchor=\"middle\" x=\"50%\" y=\"16px\">Los</text></svg><svg width=\"100%\" x=\"0%\" y=\"48px\"><defs /><svg width=\"100%\" x=\"0\" y=\"0px\"><defs /><text text-anchor=\"middle\" x=\"50%\" y=\"16px\">NNP</text></svg></svg><line stroke=\"black\" x1=\"50%\" x2=\"50%\" y1=\"19.2px\" y2=\"48px\" /></svg><line stroke=\"black\" x1=\"50%\" x2=\"17.8571%\" y1=\"19.2px\" y2=\"48px\" /><svg width=\"64.2857%\" x=\"35.7143%\" y=\"48px\"><defs /><svg width=\"100%\" x=\"0\" y=\"0px\"><defs /><text text-anchor=\"middle\" x=\"50%\" y=\"16px\">Angeles</text></svg><svg width=\"100%\" x=\"0%\" y=\"48px\"><defs /><svg width=\"100%\" x=\"0\" y=\"0px\"><defs /><text text-anchor=\"middle\" x=\"50%\" y=\"16px\">NNP</text></svg></svg><line stroke=\"black\" x1=\"50%\" x2=\"50%\" y1=\"19.2px\" y2=\"48px\" /></svg><line stroke=\"black\" x1=\"50%\" x2=\"67.8571%\" y1=\"19.2px\" y2=\"48px\" /></svg><line stroke=\"black\" x1=\"50%\" x2=\"71.2644%\" y1=\"19.2px\" y2=\"48px\" /><svg width=\"3.44828%\" x=\"79.3103%\" y=\"48px\"><defs /><svg width=\"100%\" x=\"0\" y=\"0px\"><defs /><text text-anchor=\"middle\" x=\"50%\" y=\"16px\">,</text></svg><svg width=\"100%\" x=\"0%\" y=\"48px\"><defs /><svg width=\"100%\" x=\"0\" y=\"0px\"><defs /><text text-anchor=\"middle\" x=\"50%\" y=\"16px\">,</text></svg></svg><line stroke=\"black\" x1=\"50%\" x2=\"50%\" y1=\"19.2px\" y2=\"48px\" /></svg><line stroke=\"black\" x1=\"50%\" x2=\"81.0345%\" y1=\"19.2px\" y2=\"48px\" /><svg width=\"13.7931%\" x=\"82.7586%\" y=\"48px\"><defs /><svg width=\"100%\" x=\"0\" y=\"0px\"><defs /><text text-anchor=\"middle\" x=\"50%\" y=\"16px\">GPE</text></svg><svg width=\"100%\" x=\"0%\" y=\"48px\"><defs /><svg width=\"100%\" x=\"0\" y=\"0px\"><defs /><text text-anchor=\"middle\" x=\"50%\" y=\"16px\">California</text></svg><svg width=\"100%\" x=\"0%\" y=\"48px\"><defs /><svg width=\"100%\" x=\"0\" y=\"0px\"><defs /><text text-anchor=\"middle\" x=\"50%\" y=\"16px\">NNP</text></svg></svg><line stroke=\"black\" x1=\"50%\" x2=\"50%\" y1=\"19.2px\" y2=\"48px\" /></svg><line stroke=\"black\" x1=\"50%\" x2=\"50%\" y1=\"19.2px\" y2=\"48px\" /></svg><line stroke=\"black\" x1=\"50%\" x2=\"89.6552%\" y1=\"19.2px\" y2=\"48px\" /><svg width=\"3.44828%\" x=\"96.5517%\" y=\"48px\"><defs /><svg width=\"100%\" x=\"0\" y=\"0px\"><defs /><text text-anchor=\"middle\" x=\"50%\" y=\"16px\">.</text></svg><svg width=\"100%\" x=\"0%\" y=\"48px\"><defs /><svg width=\"100%\" x=\"0\" y=\"0px\"><defs /><text text-anchor=\"middle\" x=\"50%\" y=\"16px\">.</text></svg></svg><line stroke=\"black\" x1=\"50%\" x2=\"50%\" y1=\"19.2px\" y2=\"48px\" /></svg><line stroke=\"black\" x1=\"50%\" x2=\"98.2759%\" y1=\"19.2px\" y2=\"48px\" /></svg>"
          },
          "metadata": {},
          "execution_count": 87
        }
      ]
    },
    {
      "cell_type": "markdown",
      "source": [
        "# visualization"
      ],
      "metadata": {
        "id": "lrW4h5NT-uuw"
      }
    },
    {
      "cell_type": "code",
      "source": [
        "text=(\"Python llm Python genai llm Python llm Matplotlib llm Seaborn Network llm Plot Violin Chart Pandas llm Datascience llm \")\n"
      ],
      "metadata": {
        "id": "Nbyo0H0g6vN0"
      },
      "execution_count": null,
      "outputs": []
    },
    {
      "cell_type": "code",
      "source": [
        "text"
      ],
      "metadata": {
        "colab": {
          "base_uri": "https://localhost:8080/",
          "height": 36
        },
        "id": "tzyQbbS56vLf",
        "outputId": "ec49d390-3162-497f-a5f0-4b218129ff38"
      },
      "execution_count": null,
      "outputs": [
        {
          "output_type": "execute_result",
          "data": {
            "text/plain": [
              "'Python llm Python genai llm Python llm Matplotlib llm Seaborn Network llm Plot Violin Chart Pandas llm Datascience llm '"
            ],
            "application/vnd.google.colaboratory.intrinsic+json": {
              "type": "string"
            }
          },
          "metadata": {},
          "execution_count": 89
        }
      ]
    },
    {
      "cell_type": "code",
      "source": [
        "text"
      ],
      "metadata": {
        "colab": {
          "base_uri": "https://localhost:8080/",
          "height": 36
        },
        "id": "g5Bf782e6vJF",
        "outputId": "bc6bed18-913e-4198-d23a-a2c41ce8acb3"
      },
      "execution_count": null,
      "outputs": [
        {
          "output_type": "execute_result",
          "data": {
            "text/plain": [
              "'Python llm Python genai llm Python llm Matplotlib llm Seaborn Network llm Plot Violin Chart Pandas llm Datascience llm '"
            ],
            "application/vnd.google.colaboratory.intrinsic+json": {
              "type": "string"
            }
          },
          "metadata": {},
          "execution_count": 90
        }
      ]
    },
    {
      "cell_type": "code",
      "source": [
        "from wordcloud import WordCloud\n",
        "import matplotlib.pyplot as plt"
      ],
      "metadata": {
        "id": "ndUBFPPD6vGs"
      },
      "execution_count": null,
      "outputs": []
    },
    {
      "cell_type": "code",
      "source": [
        "wordcloud = WordCloud().generate(text)\n",
        "plt.figure(figsize=(10,7))\n",
        "plt.imshow(wordcloud, interpolation='bilinear')\n",
        "plt.axis('off')\n",
        "plt.show()"
      ],
      "metadata": {
        "colab": {
          "base_uri": "https://localhost:8080/",
          "height": 424
        },
        "id": "mskpOSEh6vER",
        "outputId": "d18310a0-3a74-4e22-df56-0ca078b79482"
      },
      "execution_count": null,
      "outputs": [
        {
          "output_type": "display_data",
          "data": {
            "text/plain": [
              "<Figure size 1000x700 with 1 Axes>"
            ],
            "image/png": "[encoded data removed]"
          },
          "metadata": {}
        }
      ]
    },
    {
      "cell_type": "code",
      "source": [
        "!pip install spacy"
      ],
      "metadata": {
        "colab": {
          "base_uri": "https://localhost:8080/"
        },
        "id": "ExB-VmKD6vBr",
        "outputId": "ee52a461-0d02-41f4-b2a5-21d0008e63de"
      },
      "execution_count": null,
      "outputs": [
        {
          "output_type": "stream",
          "name": "stdout",
          "text": [
            "Requirement already satisfied: spacy in /usr/local/lib/python3.10/dist-packages (3.7.5)\n",
            "Requirement already satisfied: spacy-legacy<3.1.0,>=3.0.11 in /usr/local/lib/python3.10/dist-packages (from spacy) (3.0.12)\n",
            "Requirement already satisfied: spacy-loggers<2.0.0,>=1.0.0 in /usr/local/lib/python3.10/dist-packages (from spacy) (1.0.5)\n",
            "Requirement already satisfied: murmurhash<1.1.0,>=0.28.0 in /usr/local/lib/python3.10/dist-packages (from spacy) (1.0.10)\n",
            "Requirement already satisfied: cymem<2.1.0,>=2.0.2 in /usr/local/lib/python3.10/dist-packages (from spacy) (2.0.8)\n",
            "Requirement already satisfied: preshed<3.1.0,>=3.0.2 in /usr/local/lib/python3.10/dist-packages (from spacy) (3.0.9)\n",
            "Requirement already satisfied: thinc<8.3.0,>=8.2.2 in /usr/local/lib/python3.10/dist-packages (from spacy) (8.2.5)\n",
            "Requirement already satisfied: wasabi<1.2.0,>=0.9.1 in /usr/local/lib/python3.10/dist-packages (from spacy) (1.1.3)\n",
            "Requirement already satisfied: srsly<3.0.0,>=2.4.3 in /usr/local/lib/python3.10/dist-packages (from spacy) (2.4.8)\n",
            "Requirement already satisfied: catalogue<2.1.0,>=2.0.6 in /usr/local/lib/python3.10/dist-packages (from spacy) (2.0.10)\n",
            "Requirement already satisfied: weasel<0.5.0,>=0.1.0 in /usr/local/lib/python3.10/dist-packages (from spacy) (0.4.1)\n",
            "Requirement already satisfied: typer<1.0.0,>=0.3.0 in /usr/local/lib/python3.10/dist-packages (from spacy) (0.12.3)\n",
            "Requirement already satisfied: tqdm<5.0.0,>=4.38.0 in /usr/local/lib/python3.10/dist-packages (from spacy) (4.66.4)\n",
            "Requirement already satisfied: requests<3.0.0,>=2.13.0 in /usr/local/lib/python3.10/dist-packages (from spacy) (2.31.0)\n",
            "Requirement already satisfied: pydantic!=1.8,!=1.8.1,<3.0.0,>=1.7.4 in /usr/local/lib/python3.10/dist-packages (from spacy) (2.8.2)\n",
            "Requirement already satisfied: jinja2 in /usr/local/lib/python3.10/dist-packages (from spacy) (3.1.4)\n",
            "Requirement already satisfied: setuptools in /usr/local/lib/python3.10/dist-packages (from spacy) (71.0.4)\n",
            "Requirement already satisfied: packaging>=20.0 in /usr/local/lib/python3.10/dist-packages (from spacy) (24.1)\n",
            "Requirement already satisfied: langcodes<4.0.0,>=3.2.0 in /usr/local/lib/python3.10/dist-packages (from spacy) (3.4.0)\n",
            "Requirement already satisfied: numpy>=1.19.0 in /usr/local/lib/python3.10/dist-packages (from spacy) (1.26.4)\n",
            "Requirement already satisfied: language-data>=1.2 in /usr/local/lib/python3.10/dist-packages (from langcodes<4.0.0,>=3.2.0->spacy) (1.2.0)\n",
            "Requirement already satisfied: annotated-types>=0.4.0 in /usr/local/lib/python3.10/dist-packages (from pydantic!=1.8,!=1.8.1,<3.0.0,>=1.7.4->spacy) (0.7.0)\n",
            "Requirement already satisfied: pydantic-core==2.20.1 in /usr/local/lib/python3.10/dist-packages (from pydantic!=1.8,!=1.8.1,<3.0.0,>=1.7.4->spacy) (2.20.1)\n",
            "Requirement already satisfied: typing-extensions>=4.6.1 in /usr/local/lib/python3.10/dist-packages (from pydantic!=1.8,!=1.8.1,<3.0.0,>=1.7.4->spacy) (4.12.2)\n",
            "Requirement already satisfied: charset-normalizer<4,>=2 in /usr/local/lib/python3.10/dist-packages (from requests<3.0.0,>=2.13.0->spacy) (3.3.2)\n",
            "Requirement already satisfied: idna<4,>=2.5 in /usr/local/lib/python3.10/dist-packages (from requests<3.0.0,>=2.13.0->spacy) (3.7)\n",
            "Requirement already satisfied: urllib3<3,>=1.21.1 in /usr/local/lib/python3.10/dist-packages (from requests<3.0.0,>=2.13.0->spacy) (2.0.7)\n",
            "Requirement already satisfied: certifi>=2017.4.17 in /usr/local/lib/python3.10/dist-packages (from requests<3.0.0,>=2.13.0->spacy) (2024.7.4)\n",
            "Requirement already satisfied: blis<0.8.0,>=0.7.8 in /usr/local/lib/python3.10/dist-packages (from thinc<8.3.0,>=8.2.2->spacy) (0.7.11)\n",
            "Requirement already satisfied: confection<1.0.0,>=0.0.1 in /usr/local/lib/python3.10/dist-packages (from thinc<8.3.0,>=8.2.2->spacy) (0.1.5)\n",
            "Requirement already satisfied: click>=8.0.0 in /usr/local/lib/python3.10/dist-packages (from typer<1.0.0,>=0.3.0->spacy) (8.1.7)\n",
            "Requirement already satisfied: shellingham>=1.3.0 in /usr/local/lib/python3.10/dist-packages (from typer<1.0.0,>=0.3.0->spacy) (1.5.4)\n",
            "Requirement already satisfied: rich>=10.11.0 in /usr/local/lib/python3.10/dist-packages (from typer<1.0.0,>=0.3.0->spacy) (13.7.1)\n",
            "Requirement already satisfied: cloudpathlib<1.0.0,>=0.7.0 in /usr/local/lib/python3.10/dist-packages (from weasel<0.5.0,>=0.1.0->spacy) (0.18.1)\n",
            "Requirement already satisfied: smart-open<8.0.0,>=5.2.1 in /usr/local/lib/python3.10/dist-packages (from weasel<0.5.0,>=0.1.0->spacy) (7.0.4)\n",
            "Requirement already satisfied: MarkupSafe>=2.0 in /usr/local/lib/python3.10/dist-packages (from jinja2->spacy) (2.1.5)\n",
            "Requirement already satisfied: marisa-trie>=0.7.7 in /usr/local/lib/python3.10/dist-packages (from language-data>=1.2->langcodes<4.0.0,>=3.2.0->spacy) (1.2.0)\n",
            "Requirement already satisfied: markdown-it-py>=2.2.0 in /usr/local/lib/python3.10/dist-packages (from rich>=10.11.0->typer<1.0.0,>=0.3.0->spacy) (3.0.0)\n",
            "Requirement already satisfied: pygments<3.0.0,>=2.13.0 in /usr/local/lib/python3.10/dist-packages (from rich>=10.11.0->typer<1.0.0,>=0.3.0->spacy) (2.16.1)\n",
            "Requirement already satisfied: wrapt in /usr/local/lib/python3.10/dist-packages (from smart-open<8.0.0,>=5.2.1->weasel<0.5.0,>=0.1.0->spacy) (1.16.0)\n",
            "Requirement already satisfied: mdurl~=0.1 in /usr/local/lib/python3.10/dist-packages (from markdown-it-py>=2.2.0->rich>=10.11.0->typer<1.0.0,>=0.3.0->spacy) (0.1.2)\n"
          ]
        }
      ]
    },
    {
      "cell_type": "code",
      "source": [
        "!python -m spacy download en_core_web_sm"
      ],
      "metadata": {
        "colab": {
          "base_uri": "https://localhost:8080/"
        },
        "id": "wvFOJaWOAodJ",
        "outputId": "0dff9248-366d-47ed-8896-df281c3828c3"
      },
      "execution_count": null,
      "outputs": [
        {
          "output_type": "stream",
          "name": "stdout",
          "text": [
            "Collecting en-core-web-sm==3.7.1\n",
            "  Downloading https://github.com/explosion/spacy-models/releases/download/en_core_web_sm-3.7.1/en_core_web_sm-3.7.1-py3-none-any.whl (12.8 MB)\n",
            "\u001b[2K     \u001b[90m━━━━━━━━━━━━━━━━━━━━━━━━━━━━━━━━━━━━━━━━\u001b[0m \u001b[32m12.8/12.8 MB\u001b[0m \u001b[31m54.5 MB/s\u001b[0m eta \u001b[36m0:00:00\u001b[0m\n",
            "\u001b[?25hRequirement already satisfied: spacy<3.8.0,>=3.7.2 in /usr/local/lib/python3.10/dist-packages (from en-core-web-sm==3.7.1) (3.7.5)\n",
            "Requirement already satisfied: spacy-legacy<3.1.0,>=3.0.11 in /usr/local/lib/python3.10/dist-packages (from spacy<3.8.0,>=3.7.2->en-core-web-sm==3.7.1) (3.0.12)\n",
            "Requirement already satisfied: spacy-loggers<2.0.0,>=1.0.0 in /usr/local/lib/python3.10/dist-packages (from spacy<3.8.0,>=3.7.2->en-core-web-sm==3.7.1) (1.0.5)\n",
            "Requirement already satisfied: murmurhash<1.1.0,>=0.28.0 in /usr/local/lib/python3.10/dist-packages (from spacy<3.8.0,>=3.7.2->en-core-web-sm==3.7.1) (1.0.10)\n",
            "Requirement already satisfied: cymem<2.1.0,>=2.0.2 in /usr/local/lib/python3.10/dist-packages (from spacy<3.8.0,>=3.7.2->en-core-web-sm==3.7.1) (2.0.8)\n",
            "Requirement already satisfied: preshed<3.1.0,>=3.0.2 in /usr/local/lib/python3.10/dist-packages (from spacy<3.8.0,>=3.7.2->en-core-web-sm==3.7.1) (3.0.9)\n",
            "Requirement already satisfied: thinc<8.3.0,>=8.2.2 in /usr/local/lib/python3.10/dist-packages (from spacy<3.8.0,>=3.7.2->en-core-web-sm==3.7.1) (8.2.5)\n",
            "Requirement already satisfied: wasabi<1.2.0,>=0.9.1 in /usr/local/lib/python3.10/dist-packages (from spacy<3.8.0,>=3.7.2->en-core-web-sm==3.7.1) (1.1.3)\n",
            "Requirement already satisfied: srsly<3.0.0,>=2.4.3 in /usr/local/lib/python3.10/dist-packages (from spacy<3.8.0,>=3.7.2->en-core-web-sm==3.7.1) (2.4.8)\n",
            "Requirement already satisfied: catalogue<2.1.0,>=2.0.6 in /usr/local/lib/python3.10/dist-packages (from spacy<3.8.0,>=3.7.2->en-core-web-sm==3.7.1) (2.0.10)\n",
            "Requirement already satisfied: weasel<0.5.0,>=0.1.0 in /usr/local/lib/python3.10/dist-packages (from spacy<3.8.0,>=3.7.2->en-core-web-sm==3.7.1) (0.4.1)\n",
            "Requirement already satisfied: typer<1.0.0,>=0.3.0 in /usr/local/lib/python3.10/dist-packages (from spacy<3.8.0,>=3.7.2->en-core-web-sm==3.7.1) (0.12.3)\n",
            "Requirement already satisfied: tqdm<5.0.0,>=4.38.0 in /usr/local/lib/python3.10/dist-packages (from spacy<3.8.0,>=3.7.2->en-core-web-sm==3.7.1) (4.66.4)\n",
            "Requirement already satisfied: requests<3.0.0,>=2.13.0 in /usr/local/lib/python3.10/dist-packages (from spacy<3.8.0,>=3.7.2->en-core-web-sm==3.7.1) (2.31.0)\n",
            "Requirement already satisfied: pydantic!=1.8,!=1.8.1,<3.0.0,>=1.7.4 in /usr/local/lib/python3.10/dist-packages (from spacy<3.8.0,>=3.7.2->en-core-web-sm==3.7.1) (2.8.2)\n",
            "Requirement already satisfied: jinja2 in /usr/local/lib/python3.10/dist-packages (from spacy<3.8.0,>=3.7.2->en-core-web-sm==3.7.1) (3.1.4)\n",
            "Requirement already satisfied: setuptools in /usr/local/lib/python3.10/dist-packages (from spacy<3.8.0,>=3.7.2->en-core-web-sm==3.7.1) (71.0.4)\n",
            "Requirement already satisfied: packaging>=20.0 in /usr/local/lib/python3.10/dist-packages (from spacy<3.8.0,>=3.7.2->en-core-web-sm==3.7.1) (24.1)\n",
            "Requirement already satisfied: langcodes<4.0.0,>=3.2.0 in /usr/local/lib/python3.10/dist-packages (from spacy<3.8.0,>=3.7.2->en-core-web-sm==3.7.1) (3.4.0)\n",
            "Requirement already satisfied: numpy>=1.19.0 in /usr/local/lib/python3.10/dist-packages (from spacy<3.8.0,>=3.7.2->en-core-web-sm==3.7.1) (1.26.4)\n",
            "Requirement already satisfied: language-data>=1.2 in /usr/local/lib/python3.10/dist-packages (from langcodes<4.0.0,>=3.2.0->spacy<3.8.0,>=3.7.2->en-core-web-sm==3.7.1) (1.2.0)\n",
            "Requirement already satisfied: annotated-types>=0.4.0 in /usr/local/lib/python3.10/dist-packages (from pydantic!=1.8,!=1.8.1,<3.0.0,>=1.7.4->spacy<3.8.0,>=3.7.2->en-core-web-sm==3.7.1) (0.7.0)\n",
            "Requirement already satisfied: pydantic-core==2.20.1 in /usr/local/lib/python3.10/dist-packages (from pydantic!=1.8,!=1.8.1,<3.0.0,>=1.7.4->spacy<3.8.0,>=3.7.2->en-core-web-sm==3.7.1) (2.20.1)\n",
            "Requirement already satisfied: typing-extensions>=4.6.1 in /usr/local/lib/python3.10/dist-packages (from pydantic!=1.8,!=1.8.1,<3.0.0,>=1.7.4->spacy<3.8.0,>=3.7.2->en-core-web-sm==3.7.1) (4.12.2)\n",
            "Requirement already satisfied: charset-normalizer<4,>=2 in /usr/local/lib/python3.10/dist-packages (from requests<3.0.0,>=2.13.0->spacy<3.8.0,>=3.7.2->en-core-web-sm==3.7.1) (3.3.2)\n",
            "Requirement already satisfied: idna<4,>=2.5 in /usr/local/lib/python3.10/dist-packages (from requests<3.0.0,>=2.13.0->spacy<3.8.0,>=3.7.2->en-core-web-sm==3.7.1) (3.7)\n",
            "Requirement already satisfied: urllib3<3,>=1.21.1 in /usr/local/lib/python3.10/dist-packages (from requests<3.0.0,>=2.13.0->spacy<3.8.0,>=3.7.2->en-core-web-sm==3.7.1) (2.0.7)\n",
            "Requirement already satisfied: certifi>=2017.4.17 in /usr/local/lib/python3.10/dist-packages (from requests<3.0.0,>=2.13.0->spacy<3.8.0,>=3.7.2->en-core-web-sm==3.7.1) (2024.7.4)\n",
            "Requirement already satisfied: blis<0.8.0,>=0.7.8 in /usr/local/lib/python3.10/dist-packages (from thinc<8.3.0,>=8.2.2->spacy<3.8.0,>=3.7.2->en-core-web-sm==3.7.1) (0.7.11)\n",
            "Requirement already satisfied: confection<1.0.0,>=0.0.1 in /usr/local/lib/python3.10/dist-packages (from thinc<8.3.0,>=8.2.2->spacy<3.8.0,>=3.7.2->en-core-web-sm==3.7.1) (0.1.5)\n",
            "Requirement already satisfied: click>=8.0.0 in /usr/local/lib/python3.10/dist-packages (from typer<1.0.0,>=0.3.0->spacy<3.8.0,>=3.7.2->en-core-web-sm==3.7.1) (8.1.7)\n",
            "Requirement already satisfied: shellingham>=1.3.0 in /usr/local/lib/python3.10/dist-packages (from typer<1.0.0,>=0.3.0->spacy<3.8.0,>=3.7.2->en-core-web-sm==3.7.1) (1.5.4)\n",
            "Requirement already satisfied: rich>=10.11.0 in /usr/local/lib/python3.10/dist-packages (from typer<1.0.0,>=0.3.0->spacy<3.8.0,>=3.7.2->en-core-web-sm==3.7.1) (13.7.1)\n",
            "Requirement already satisfied: cloudpathlib<1.0.0,>=0.7.0 in /usr/local/lib/python3.10/dist-packages (from weasel<0.5.0,>=0.1.0->spacy<3.8.0,>=3.7.2->en-core-web-sm==3.7.1) (0.18.1)\n",
            "Requirement already satisfied: smart-open<8.0.0,>=5.2.1 in /usr/local/lib/python3.10/dist-packages (from weasel<0.5.0,>=0.1.0->spacy<3.8.0,>=3.7.2->en-core-web-sm==3.7.1) (7.0.4)\n",
            "Requirement already satisfied: MarkupSafe>=2.0 in /usr/local/lib/python3.10/dist-packages (from jinja2->spacy<3.8.0,>=3.7.2->en-core-web-sm==3.7.1) (2.1.5)\n",
            "Requirement already satisfied: marisa-trie>=0.7.7 in /usr/local/lib/python3.10/dist-packages (from language-data>=1.2->langcodes<4.0.0,>=3.2.0->spacy<3.8.0,>=3.7.2->en-core-web-sm==3.7.1) (1.2.0)\n",
            "Requirement already satisfied: markdown-it-py>=2.2.0 in /usr/local/lib/python3.10/dist-packages (from rich>=10.11.0->typer<1.0.0,>=0.3.0->spacy<3.8.0,>=3.7.2->en-core-web-sm==3.7.1) (3.0.0)\n",
            "Requirement already satisfied: pygments<3.0.0,>=2.13.0 in /usr/local/lib/python3.10/dist-packages (from rich>=10.11.0->typer<1.0.0,>=0.3.0->spacy<3.8.0,>=3.7.2->en-core-web-sm==3.7.1) (2.16.1)\n",
            "Requirement already satisfied: wrapt in /usr/local/lib/python3.10/dist-packages (from smart-open<8.0.0,>=5.2.1->weasel<0.5.0,>=0.1.0->spacy<3.8.0,>=3.7.2->en-core-web-sm==3.7.1) (1.16.0)\n",
            "Requirement already satisfied: mdurl~=0.1 in /usr/local/lib/python3.10/dist-packages (from markdown-it-py>=2.2.0->rich>=10.11.0->typer<1.0.0,>=0.3.0->spacy<3.8.0,>=3.7.2->en-core-web-sm==3.7.1) (0.1.2)\n",
            "\u001b[38;5;2m✔ Download and installation successful\u001b[0m\n",
            "You can now load the package via spacy.load('en_core_web_sm')\n",
            "\u001b[38;5;3m⚠ Restart to reload dependencies\u001b[0m\n",
            "If you are in a Jupyter or Colab notebook, you may need to restart Python in\n",
            "order to load all the package's dependencies. You can do this by selecting the\n",
            "'Restart kernel' or 'Restart runtime' option.\n"
          ]
        }
      ]
    },
    {
      "cell_type": "code",
      "source": [
        "import spacy\n",
        "nlp = spacy.load(\"en_core_web_sm\")"
      ],
      "metadata": {
        "id": "yeS8sm9MAoa3"
      },
      "execution_count": null,
      "outputs": []
    },
    {
      "cell_type": "code",
      "source": [
        "text"
      ],
      "metadata": {
        "colab": {
          "base_uri": "https://localhost:8080/",
          "height": 36
        },
        "id": "ifNW-EdUAoYv",
        "outputId": "93da415a-92a9-4d4d-b908-dd8fd06bc850"
      },
      "execution_count": null,
      "outputs": [
        {
          "output_type": "execute_result",
          "data": {
            "text/plain": [
              "'Python llm Python genai llm Python llm Matplotlib llm Seaborn Network llm Plot Violin Chart Pandas llm Datascience llm '"
            ],
            "application/vnd.google.colaboratory.intrinsic+json": {
              "type": "string"
            }
          },
          "metadata": {},
          "execution_count": 96
        }
      ]
    },
    {
      "cell_type": "code",
      "source": [
        "doc = nlp('Python llm Python genai llm Python llm Matplotlib llm Seaborn Network llm Plot Violin Chart Pandas llm Datascience llm ')"
      ],
      "metadata": {
        "id": "qKp7lJBoAoVw"
      },
      "execution_count": null,
      "outputs": []
    },
    {
      "cell_type": "code",
      "source": [
        "doc"
      ],
      "metadata": {
        "colab": {
          "base_uri": "https://localhost:8080/"
        },
        "id": "xg87XjvZsdX_",
        "outputId": "01136f13-0e16-4bb3-fbdb-b6bb0a46237e"
      },
      "execution_count": null,
      "outputs": [
        {
          "output_type": "execute_result",
          "data": {
            "text/plain": [
              "Python llm Python genai llm Python llm Matplotlib llm Seaborn Network llm Plot Violin Chart Pandas llm Datascience llm "
            ]
          },
          "metadata": {},
          "execution_count": 98
        }
      ]
    },
    {
      "cell_type": "code",
      "source": [
        "for token in doc:\n",
        "  print(token.text)"
      ],
      "metadata": {
        "colab": {
          "base_uri": "https://localhost:8080/"
        },
        "id": "YaaALN3gB_xv",
        "outputId": "736cf6dd-7066-488b-d948-3d638ab3fc10"
      },
      "execution_count": null,
      "outputs": [
        {
          "output_type": "stream",
          "name": "stdout",
          "text": [
            "Python\n",
            "llm\n",
            "Python\n",
            "genai\n",
            "llm\n",
            "Python\n",
            "llm\n",
            "Matplotlib\n",
            "llm\n",
            "Seaborn\n",
            "Network\n",
            "llm\n",
            "Plot\n",
            "Violin\n",
            "Chart\n",
            "Pandas\n",
            "llm\n",
            "Datascience\n",
            "llm\n"
          ]
        }
      ]
    },
    {
      "cell_type": "code",
      "source": [
        "text"
      ],
      "metadata": {
        "colab": {
          "base_uri": "https://localhost:8080/",
          "height": 36
        },
        "id": "OwfZkIbrCRTL",
        "outputId": "14a06075-5fe4-4f7d-a1ed-142d2233843a"
      },
      "execution_count": null,
      "outputs": [
        {
          "output_type": "execute_result",
          "data": {
            "text/plain": [
              "'Python llm Python genai llm Python llm Matplotlib llm Seaborn Network llm Plot Violin Chart Pandas llm Datascience llm '"
            ],
            "application/vnd.google.colaboratory.intrinsic+json": {
              "type": "string"
            }
          },
          "metadata": {},
          "execution_count": 101
        }
      ]
    },
    {
      "cell_type": "code",
      "source": [
        "for token in doc:\n",
        "  print(token.text, token.pos_, token.tag_, token.is_alpha, token.is_stop)"
      ],
      "metadata": {
        "colab": {
          "base_uri": "https://localhost:8080/"
        },
        "id": "k4ZXPT_oCC8g",
        "outputId": "2fc8f6ee-df46-4854-a72f-ecca238218c0"
      },
      "execution_count": null,
      "outputs": [
        {
          "output_type": "stream",
          "name": "stdout",
          "text": [
            "Python PROPN NNP True False\n",
            "llm NOUN NN True False\n",
            "Python PROPN NNP True False\n",
            "genai ADJ JJ True False\n",
            "llm ADV RB True False\n",
            "Python PROPN NNP True False\n",
            "llm INTJ UH True False\n",
            "Matplotlib PROPN NNP True False\n",
            "llm NOUN NN True False\n",
            "Seaborn PROPN NNP True False\n",
            "Network PROPN NNP True False\n",
            "llm NOUN NN True False\n",
            "Plot PROPN NNP True False\n",
            "Violin PROPN NNP True False\n",
            "Chart PROPN NNP True False\n",
            "Pandas VERB VBZ True False\n",
            "llm ADV RB True False\n",
            "Datascience NOUN NN True False\n",
            "llm NOUN NN True False\n"
          ]
        }
      ]
    },
    {
      "cell_type": "markdown",
      "source": [
        "# EMBEDDING"
      ],
      "metadata": {
        "id": "YNLqfQaJC8jq"
      }
    },
    {
      "cell_type": "code",
      "source": [
        "from sklearn.feature_extraction.text import CountVectorizer\n",
        "\n",
        "sentence = \" data science and ai genai has great career ahead\"\n",
        "vectorizer = CountVectorizer()\n",
        "vector = vectorizer.fit_transform([sentence])\n",
        "vector.toarray()"
      ],
      "metadata": {
        "colab": {
          "base_uri": "https://localhost:8080/"
        },
        "id": "LPQOOfMtCQCT",
        "outputId": "23488096-8f02-4cb5-b4cf-7bbbb67496d3"
      },
      "execution_count": null,
      "outputs": [
        {
          "output_type": "execute_result",
          "data": {
            "text/plain": [
              "array([[1, 1, 1, 1, 1, 1, 1, 1]])"
            ]
          },
          "metadata": {},
          "execution_count": 105
        }
      ]
    },
    {
      "cell_type": "code",
      "source": [
        "from sklearn.feature_extraction.text import TfidfVectorizer\n",
        "sentence = \" data science and ai genai has great career ahead\"\n",
        "vectorizer = TfidfVectorizer()\n",
        "vector = vectorizer.fit_transform([sentence])\n",
        "vector.toarray()"
      ],
      "metadata": {
        "colab": {
          "base_uri": "https://localhost:8080/"
        },
        "id": "gJkcJRUmCsAn",
        "outputId": "b9e67c7f-4a0c-4d83-938a-7e6123c55bbf"
      },
      "execution_count": null,
      "outputs": [
        {
          "output_type": "execute_result",
          "data": {
            "text/plain": [
              "array([[0.33333333, 0.33333333, 0.33333333, 0.33333333, 0.33333333,\n",
              "        0.33333333, 0.33333333, 0.33333333, 0.33333333]])"
            ]
          },
          "metadata": {},
          "execution_count": 107
        }
      ]
    },
    {
      "cell_type": "code",
      "source": [],
      "metadata": {
        "id": "Jew_d-G3Cr9-"
      },
      "execution_count": null,
      "outputs": []
    },
    {
      "cell_type": "code",
      "source": [],
      "metadata": {
        "id": "jxLY6NqfCr7e"
      },
      "execution_count": null,
      "outputs": []
    },
    {
      "cell_type": "code",
      "source": [],
      "metadata": {
        "id": "SaGyRyWaCr5W"
      },
      "execution_count": null,
      "outputs": []
    },
    {
      "cell_type": "code",
      "source": [],
      "metadata": {
        "id": "Ag9ssILXCr2-"
      },
      "execution_count": null,
      "outputs": []
    },
    {
      "cell_type": "code",
      "source": [],
      "metadata": {
        "id": "99UP9nglCr0h"
      },
      "execution_count": null,
      "outputs": []
    },
    {
      "cell_type": "code",
      "source": [],
      "metadata": {
        "id": "RKobh-FGCryU"
      },
      "execution_count": null,
      "outputs": []
    },
    {
      "cell_type": "code",
      "source": [],
      "metadata": {
        "id": "4ZLwRP-9Crwj"
      },
      "execution_count": null,
      "outputs": []
    },
    {
      "cell_type": "code",
      "source": [],
      "metadata": {
        "id": "i43lAVqICrtr"
      },
      "execution_count": null,
      "outputs": []
    },
    {
      "cell_type": "code",
      "source": [],
      "metadata": {
        "id": "urcEyNchCrq7"
      },
      "execution_count": null,
      "outputs": []
    },
    {
      "cell_type": "code",
      "source": [],
      "metadata": {
        "id": "D0CL0ZGWCroe"
      },
      "execution_count": null,
      "outputs": []
    },
    {
      "cell_type": "code",
      "source": [],
      "metadata": {
        "id": "fgMJDufNCrj7"
      },
      "execution_count": null,
      "outputs": []
    },
    {
      "cell_type": "code",
      "source": [],
      "metadata": {
        "id": "ir-ya9XlCrhI"
      },
      "execution_count": null,
      "outputs": []
    },
    {
      "cell_type": "markdown",
      "source": [],
      "metadata": {
        "id": "IzRBpH8JCrOS"
      }
    }
  ]
}